{
 "cells": [
  {
   "cell_type": "code",
   "execution_count": 2,
   "metadata": {},
   "outputs": [],
   "source": [
    "import pandas as pd\n",
    "import numpy as np\n",
    "from datetime import datetime\n",
    "import lightgbm as lgb\n",
    "import matplotlib.pyplot as plt\n",
    "import seaborn as sns\n",
    "import warnings\n",
    "from sklearn.model_selection import train_test_split, KFold\n",
    "import sklearn.model_selection\n",
    "from sklearn.preprocessing import LabelEncoder\n",
    "from sklearn.metrics import confusion_matrix, accuracy_score, f1_score, roc_curve, auc"
   ]
  },
  {
   "cell_type": "code",
   "execution_count": 3,
   "metadata": {},
   "outputs": [
    {
     "name": "stdout",
     "output_type": "stream",
     "text": [
      "README.md\t\t\t  relax_no_creation_time.ipynb\r\n",
      "relax_data_science_challenge.pdf  relax_no_session_time.ipynb\r\n",
      "relax_invited_by_user.ipynb\t  takehome_user_engagement.csv\r\n",
      "relax.ipynb\t\t\t  takehome_users.csv\r\n"
     ]
    }
   ],
   "source": [
    "!ls"
   ]
  },
  {
   "cell_type": "code",
   "execution_count": 4,
   "metadata": {
    "scrolled": true
   },
   "outputs": [
    {
     "data": {
      "text/html": [
       "<div>\n",
       "<style scoped>\n",
       "    .dataframe tbody tr th:only-of-type {\n",
       "        vertical-align: middle;\n",
       "    }\n",
       "\n",
       "    .dataframe tbody tr th {\n",
       "        vertical-align: top;\n",
       "    }\n",
       "\n",
       "    .dataframe thead th {\n",
       "        text-align: right;\n",
       "    }\n",
       "</style>\n",
       "<table border=\"1\" class=\"dataframe\">\n",
       "  <thead>\n",
       "    <tr style=\"text-align: right;\">\n",
       "      <th></th>\n",
       "      <th>time_stamp</th>\n",
       "      <th>user_id</th>\n",
       "      <th>visited</th>\n",
       "    </tr>\n",
       "  </thead>\n",
       "  <tbody>\n",
       "    <tr>\n",
       "      <th>0</th>\n",
       "      <td>2014-04-22 03:53:30</td>\n",
       "      <td>1</td>\n",
       "      <td>1</td>\n",
       "    </tr>\n",
       "    <tr>\n",
       "      <th>1</th>\n",
       "      <td>2013-11-15 03:45:04</td>\n",
       "      <td>2</td>\n",
       "      <td>1</td>\n",
       "    </tr>\n",
       "    <tr>\n",
       "      <th>2</th>\n",
       "      <td>2013-11-29 03:45:04</td>\n",
       "      <td>2</td>\n",
       "      <td>1</td>\n",
       "    </tr>\n",
       "    <tr>\n",
       "      <th>3</th>\n",
       "      <td>2013-12-09 03:45:04</td>\n",
       "      <td>2</td>\n",
       "      <td>1</td>\n",
       "    </tr>\n",
       "    <tr>\n",
       "      <th>4</th>\n",
       "      <td>2013-12-25 03:45:04</td>\n",
       "      <td>2</td>\n",
       "      <td>1</td>\n",
       "    </tr>\n",
       "  </tbody>\n",
       "</table>\n",
       "</div>"
      ],
      "text/plain": [
       "           time_stamp  user_id  visited\n",
       "0 2014-04-22 03:53:30        1        1\n",
       "1 2013-11-15 03:45:04        2        1\n",
       "2 2013-11-29 03:45:04        2        1\n",
       "3 2013-12-09 03:45:04        2        1\n",
       "4 2013-12-25 03:45:04        2        1"
      ]
     },
     "execution_count": 4,
     "metadata": {},
     "output_type": "execute_result"
    }
   ],
   "source": [
    "summary = pd.read_csv('takehome_user_engagement.csv', parse_dates=['time_stamp'])\n",
    "summary.head()"
   ]
  },
  {
   "cell_type": "code",
   "execution_count": 5,
   "metadata": {},
   "outputs": [
    {
     "data": {
      "text/plain": [
       "time_stamp    datetime64[ns]\n",
       "user_id                int64\n",
       "visited                int64\n",
       "dtype: object"
      ]
     },
     "execution_count": 5,
     "metadata": {},
     "output_type": "execute_result"
    }
   ],
   "source": [
    "summary.dtypes"
   ]
  },
  {
   "cell_type": "code",
   "execution_count": 6,
   "metadata": {},
   "outputs": [
    {
     "data": {
      "text/plain": [
       "1    207917\n",
       "Name: visited, dtype: int64"
      ]
     },
     "execution_count": 6,
     "metadata": {},
     "output_type": "execute_result"
    }
   ],
   "source": [
    "summary.visited.value_counts(dropna=False)"
   ]
  },
  {
   "cell_type": "code",
   "execution_count": 7,
   "metadata": {},
   "outputs": [
    {
     "data": {
      "text/html": [
       "<div>\n",
       "<style scoped>\n",
       "    .dataframe tbody tr th:only-of-type {\n",
       "        vertical-align: middle;\n",
       "    }\n",
       "\n",
       "    .dataframe tbody tr th {\n",
       "        vertical-align: top;\n",
       "    }\n",
       "\n",
       "    .dataframe thead th {\n",
       "        text-align: right;\n",
       "    }\n",
       "</style>\n",
       "<table border=\"1\" class=\"dataframe\">\n",
       "  <thead>\n",
       "    <tr style=\"text-align: right;\">\n",
       "      <th></th>\n",
       "      <th>time_stamp</th>\n",
       "      <th>user_id</th>\n",
       "      <th>visited</th>\n",
       "      <th>date</th>\n",
       "    </tr>\n",
       "  </thead>\n",
       "  <tbody>\n",
       "    <tr>\n",
       "      <th>0</th>\n",
       "      <td>2014-04-22 03:53:30</td>\n",
       "      <td>1</td>\n",
       "      <td>1</td>\n",
       "      <td>735345</td>\n",
       "    </tr>\n",
       "    <tr>\n",
       "      <th>1</th>\n",
       "      <td>2013-11-15 03:45:04</td>\n",
       "      <td>2</td>\n",
       "      <td>1</td>\n",
       "      <td>735187</td>\n",
       "    </tr>\n",
       "    <tr>\n",
       "      <th>2</th>\n",
       "      <td>2013-11-29 03:45:04</td>\n",
       "      <td>2</td>\n",
       "      <td>1</td>\n",
       "      <td>735201</td>\n",
       "    </tr>\n",
       "    <tr>\n",
       "      <th>3</th>\n",
       "      <td>2013-12-09 03:45:04</td>\n",
       "      <td>2</td>\n",
       "      <td>1</td>\n",
       "      <td>735211</td>\n",
       "    </tr>\n",
       "    <tr>\n",
       "      <th>4</th>\n",
       "      <td>2013-12-25 03:45:04</td>\n",
       "      <td>2</td>\n",
       "      <td>1</td>\n",
       "      <td>735227</td>\n",
       "    </tr>\n",
       "  </tbody>\n",
       "</table>\n",
       "</div>"
      ],
      "text/plain": [
       "           time_stamp  user_id  visited    date\n",
       "0 2014-04-22 03:53:30        1        1  735345\n",
       "1 2013-11-15 03:45:04        2        1  735187\n",
       "2 2013-11-29 03:45:04        2        1  735201\n",
       "3 2013-12-09 03:45:04        2        1  735211\n",
       "4 2013-12-25 03:45:04        2        1  735227"
      ]
     },
     "execution_count": 7,
     "metadata": {},
     "output_type": "execute_result"
    }
   ],
   "source": [
    "summary['date'] = summary.time_stamp.apply(datetime.toordinal)\n",
    "summary.head()"
   ]
  },
  {
   "cell_type": "code",
   "execution_count": 8,
   "metadata": {},
   "outputs": [
    {
     "data": {
      "text/plain": [
       "1.0"
      ]
     },
     "execution_count": 8,
     "metadata": {},
     "output_type": "execute_result"
    }
   ],
   "source": [
    "# Verify that dates are sorted\n",
    "summary.groupby('user_id').date.diff().min()"
   ]
  },
  {
   "cell_type": "code",
   "execution_count": 9,
   "metadata": {},
   "outputs": [
    {
     "data": {
      "text/plain": [
       "user_id\n",
       "1     False\n",
       "2      True\n",
       "3     False\n",
       "4     False\n",
       "5     False\n",
       "6     False\n",
       "7     False\n",
       "10     True\n",
       "11    False\n",
       "13    False\n",
       "14    False\n",
       "17    False\n",
       "19    False\n",
       "20     True\n",
       "21    False\n",
       "22    False\n",
       "23    False\n",
       "24    False\n",
       "25    False\n",
       "27    False\n",
       "Name: adopted, dtype: bool"
      ]
     },
     "execution_count": 9,
     "metadata": {},
     "output_type": "execute_result"
    }
   ],
   "source": [
    "adopted = (pd.DataFrame(summary.groupby(\n",
    "            ['user_id','date']).visited.max()).reset_index().groupby(\n",
    "             'user_id').date.rolling(window=3).apply(lambda x: x[2] - x[0], raw=True).groupby(\n",
    "             'user_id').min() < 7)\n",
    "adopted.name = 'adopted'\n",
    "adopted.head(20)"
   ]
  },
  {
   "cell_type": "code",
   "execution_count": 10,
   "metadata": {},
   "outputs": [
    {
     "data": {
      "text/plain": [
       "user_id\n",
       "1       1\n",
       "2      14\n",
       "3       1\n",
       "4       1\n",
       "5       1\n",
       "6       1\n",
       "7       1\n",
       "10    284\n",
       "11      1\n",
       "13      1\n",
       "Name: date, dtype: int64"
      ]
     },
     "execution_count": 10,
     "metadata": {},
     "output_type": "execute_result"
    }
   ],
   "source": [
    "counts = (pd.DataFrame(summary.groupby(\n",
    "            ['user_id','date']).visited.max()).reset_index().groupby(\n",
    "             'user_id').date.count())\n",
    "counts.head(10)"
   ]
  },
  {
   "cell_type": "code",
   "execution_count": 11,
   "metadata": {},
   "outputs": [
    {
     "data": {
      "text/html": [
       "<div>\n",
       "<style scoped>\n",
       "    .dataframe tbody tr th:only-of-type {\n",
       "        vertical-align: middle;\n",
       "    }\n",
       "\n",
       "    .dataframe tbody tr th {\n",
       "        vertical-align: top;\n",
       "    }\n",
       "\n",
       "    .dataframe thead th {\n",
       "        text-align: right;\n",
       "    }\n",
       "</style>\n",
       "<table border=\"1\" class=\"dataframe\">\n",
       "  <thead>\n",
       "    <tr style=\"text-align: right;\">\n",
       "      <th></th>\n",
       "      <th>date</th>\n",
       "      <th>adopted</th>\n",
       "    </tr>\n",
       "    <tr>\n",
       "      <th>user_id</th>\n",
       "      <th></th>\n",
       "      <th></th>\n",
       "    </tr>\n",
       "  </thead>\n",
       "  <tbody>\n",
       "    <tr>\n",
       "      <th>2</th>\n",
       "      <td>14</td>\n",
       "      <td>True</td>\n",
       "    </tr>\n",
       "    <tr>\n",
       "      <th>10</th>\n",
       "      <td>284</td>\n",
       "      <td>True</td>\n",
       "    </tr>\n",
       "    <tr>\n",
       "      <th>19</th>\n",
       "      <td>2</td>\n",
       "      <td>False</td>\n",
       "    </tr>\n",
       "    <tr>\n",
       "      <th>20</th>\n",
       "      <td>7</td>\n",
       "      <td>True</td>\n",
       "    </tr>\n",
       "    <tr>\n",
       "      <th>25</th>\n",
       "      <td>2</td>\n",
       "      <td>False</td>\n",
       "    </tr>\n",
       "    <tr>\n",
       "      <th>33</th>\n",
       "      <td>18</td>\n",
       "      <td>True</td>\n",
       "    </tr>\n",
       "    <tr>\n",
       "      <th>42</th>\n",
       "      <td>342</td>\n",
       "      <td>True</td>\n",
       "    </tr>\n",
       "    <tr>\n",
       "      <th>43</th>\n",
       "      <td>8</td>\n",
       "      <td>True</td>\n",
       "    </tr>\n",
       "    <tr>\n",
       "      <th>50</th>\n",
       "      <td>17</td>\n",
       "      <td>True</td>\n",
       "    </tr>\n",
       "    <tr>\n",
       "      <th>53</th>\n",
       "      <td>9</td>\n",
       "      <td>True</td>\n",
       "    </tr>\n",
       "    <tr>\n",
       "      <th>59</th>\n",
       "      <td>3</td>\n",
       "      <td>False</td>\n",
       "    </tr>\n",
       "    <tr>\n",
       "      <th>60</th>\n",
       "      <td>8</td>\n",
       "      <td>False</td>\n",
       "    </tr>\n",
       "    <tr>\n",
       "      <th>63</th>\n",
       "      <td>362</td>\n",
       "      <td>True</td>\n",
       "    </tr>\n",
       "    <tr>\n",
       "      <th>69</th>\n",
       "      <td>521</td>\n",
       "      <td>True</td>\n",
       "    </tr>\n",
       "    <tr>\n",
       "      <th>74</th>\n",
       "      <td>59</td>\n",
       "      <td>True</td>\n",
       "    </tr>\n",
       "    <tr>\n",
       "      <th>77</th>\n",
       "      <td>3</td>\n",
       "      <td>False</td>\n",
       "    </tr>\n",
       "    <tr>\n",
       "      <th>80</th>\n",
       "      <td>8</td>\n",
       "      <td>True</td>\n",
       "    </tr>\n",
       "    <tr>\n",
       "      <th>81</th>\n",
       "      <td>78</td>\n",
       "      <td>True</td>\n",
       "    </tr>\n",
       "    <tr>\n",
       "      <th>82</th>\n",
       "      <td>205</td>\n",
       "      <td>True</td>\n",
       "    </tr>\n",
       "    <tr>\n",
       "      <th>87</th>\n",
       "      <td>104</td>\n",
       "      <td>True</td>\n",
       "    </tr>\n",
       "  </tbody>\n",
       "</table>\n",
       "</div>"
      ],
      "text/plain": [
       "         date  adopted\n",
       "user_id               \n",
       "2          14     True\n",
       "10        284     True\n",
       "19          2    False\n",
       "20          7     True\n",
       "25          2    False\n",
       "33         18     True\n",
       "42        342     True\n",
       "43          8     True\n",
       "50         17     True\n",
       "53          9     True\n",
       "59          3    False\n",
       "60          8    False\n",
       "63        362     True\n",
       "69        521     True\n",
       "74         59     True\n",
       "77          3    False\n",
       "80          8     True\n",
       "81         78     True\n",
       "82        205     True\n",
       "87        104     True"
      ]
     },
     "execution_count": 11,
     "metadata": {},
     "output_type": "execute_result"
    }
   ],
   "source": [
    "pd.DataFrame(counts[counts>1]).join(adopted).head(20)"
   ]
  },
  {
   "cell_type": "code",
   "execution_count": 12,
   "metadata": {},
   "outputs": [
    {
     "data": {
      "text/html": [
       "<div>\n",
       "<style scoped>\n",
       "    .dataframe tbody tr th:only-of-type {\n",
       "        vertical-align: middle;\n",
       "    }\n",
       "\n",
       "    .dataframe tbody tr th {\n",
       "        vertical-align: top;\n",
       "    }\n",
       "\n",
       "    .dataframe thead th {\n",
       "        text-align: right;\n",
       "    }\n",
       "</style>\n",
       "<table border=\"1\" class=\"dataframe\">\n",
       "  <thead>\n",
       "    <tr style=\"text-align: right;\">\n",
       "      <th></th>\n",
       "      <th>time_stamp</th>\n",
       "      <th>user_id</th>\n",
       "      <th>visited</th>\n",
       "      <th>date</th>\n",
       "    </tr>\n",
       "  </thead>\n",
       "  <tbody>\n",
       "    <tr>\n",
       "      <th>740</th>\n",
       "      <td>2014-03-21 22:56:03</td>\n",
       "      <td>60</td>\n",
       "      <td>1</td>\n",
       "      <td>735313</td>\n",
       "    </tr>\n",
       "    <tr>\n",
       "      <th>741</th>\n",
       "      <td>2014-03-29 22:56:03</td>\n",
       "      <td>60</td>\n",
       "      <td>1</td>\n",
       "      <td>735321</td>\n",
       "    </tr>\n",
       "    <tr>\n",
       "      <th>742</th>\n",
       "      <td>2014-04-02 22:56:03</td>\n",
       "      <td>60</td>\n",
       "      <td>1</td>\n",
       "      <td>735325</td>\n",
       "    </tr>\n",
       "    <tr>\n",
       "      <th>743</th>\n",
       "      <td>2014-04-05 22:56:03</td>\n",
       "      <td>60</td>\n",
       "      <td>1</td>\n",
       "      <td>735328</td>\n",
       "    </tr>\n",
       "    <tr>\n",
       "      <th>744</th>\n",
       "      <td>2014-04-22 22:56:03</td>\n",
       "      <td>60</td>\n",
       "      <td>1</td>\n",
       "      <td>735345</td>\n",
       "    </tr>\n",
       "    <tr>\n",
       "      <th>745</th>\n",
       "      <td>2014-04-28 22:56:03</td>\n",
       "      <td>60</td>\n",
       "      <td>1</td>\n",
       "      <td>735351</td>\n",
       "    </tr>\n",
       "    <tr>\n",
       "      <th>746</th>\n",
       "      <td>2014-05-13 22:56:03</td>\n",
       "      <td>60</td>\n",
       "      <td>1</td>\n",
       "      <td>735366</td>\n",
       "    </tr>\n",
       "    <tr>\n",
       "      <th>747</th>\n",
       "      <td>2014-05-15 22:56:03</td>\n",
       "      <td>60</td>\n",
       "      <td>1</td>\n",
       "      <td>735368</td>\n",
       "    </tr>\n",
       "  </tbody>\n",
       "</table>\n",
       "</div>"
      ],
      "text/plain": [
       "             time_stamp  user_id  visited    date\n",
       "740 2014-03-21 22:56:03       60        1  735313\n",
       "741 2014-03-29 22:56:03       60        1  735321\n",
       "742 2014-04-02 22:56:03       60        1  735325\n",
       "743 2014-04-05 22:56:03       60        1  735328\n",
       "744 2014-04-22 22:56:03       60        1  735345\n",
       "745 2014-04-28 22:56:03       60        1  735351\n",
       "746 2014-05-13 22:56:03       60        1  735366\n",
       "747 2014-05-15 22:56:03       60        1  735368"
      ]
     },
     "execution_count": 12,
     "metadata": {},
     "output_type": "execute_result"
    }
   ],
   "source": [
    "# Check this case as a quick test\n",
    "summary[summary.user_id==60]"
   ]
  },
  {
   "cell_type": "code",
   "execution_count": null,
   "metadata": {},
   "outputs": [],
   "source": []
  },
  {
   "cell_type": "code",
   "execution_count": 13,
   "metadata": {},
   "outputs": [
    {
     "data": {
      "text/html": [
       "<div>\n",
       "<style scoped>\n",
       "    .dataframe tbody tr th:only-of-type {\n",
       "        vertical-align: middle;\n",
       "    }\n",
       "\n",
       "    .dataframe tbody tr th {\n",
       "        vertical-align: top;\n",
       "    }\n",
       "\n",
       "    .dataframe thead th {\n",
       "        text-align: right;\n",
       "    }\n",
       "</style>\n",
       "<table border=\"1\" class=\"dataframe\">\n",
       "  <thead>\n",
       "    <tr style=\"text-align: right;\">\n",
       "      <th></th>\n",
       "      <th>object_id</th>\n",
       "      <th>creation_time</th>\n",
       "      <th>name</th>\n",
       "      <th>email</th>\n",
       "      <th>creation_source</th>\n",
       "      <th>last_session_creation_time</th>\n",
       "      <th>opted_in_to_mailing_list</th>\n",
       "      <th>enabled_for_marketing_drip</th>\n",
       "      <th>org_id</th>\n",
       "      <th>invited_by_user_id</th>\n",
       "    </tr>\n",
       "  </thead>\n",
       "  <tbody>\n",
       "    <tr>\n",
       "      <th>0</th>\n",
       "      <td>1</td>\n",
       "      <td>2014-04-22 03:53:30</td>\n",
       "      <td>Clausen August</td>\n",
       "      <td>AugustCClausen@yahoo.com</td>\n",
       "      <td>GUEST_INVITE</td>\n",
       "      <td>1.398139e+09</td>\n",
       "      <td>1</td>\n",
       "      <td>0</td>\n",
       "      <td>11</td>\n",
       "      <td>10803.0</td>\n",
       "    </tr>\n",
       "    <tr>\n",
       "      <th>1</th>\n",
       "      <td>2</td>\n",
       "      <td>2013-11-15 03:45:04</td>\n",
       "      <td>Poole Matthew</td>\n",
       "      <td>MatthewPoole@gustr.com</td>\n",
       "      <td>ORG_INVITE</td>\n",
       "      <td>1.396238e+09</td>\n",
       "      <td>0</td>\n",
       "      <td>0</td>\n",
       "      <td>1</td>\n",
       "      <td>316.0</td>\n",
       "    </tr>\n",
       "    <tr>\n",
       "      <th>2</th>\n",
       "      <td>3</td>\n",
       "      <td>2013-03-19 23:14:52</td>\n",
       "      <td>Bottrill Mitchell</td>\n",
       "      <td>MitchellBottrill@gustr.com</td>\n",
       "      <td>ORG_INVITE</td>\n",
       "      <td>1.363735e+09</td>\n",
       "      <td>0</td>\n",
       "      <td>0</td>\n",
       "      <td>94</td>\n",
       "      <td>1525.0</td>\n",
       "    </tr>\n",
       "    <tr>\n",
       "      <th>3</th>\n",
       "      <td>4</td>\n",
       "      <td>2013-05-21 08:09:28</td>\n",
       "      <td>Clausen Nicklas</td>\n",
       "      <td>NicklasSClausen@yahoo.com</td>\n",
       "      <td>GUEST_INVITE</td>\n",
       "      <td>1.369210e+09</td>\n",
       "      <td>0</td>\n",
       "      <td>0</td>\n",
       "      <td>1</td>\n",
       "      <td>5151.0</td>\n",
       "    </tr>\n",
       "    <tr>\n",
       "      <th>4</th>\n",
       "      <td>5</td>\n",
       "      <td>2013-01-17 10:14:20</td>\n",
       "      <td>Raw Grace</td>\n",
       "      <td>GraceRaw@yahoo.com</td>\n",
       "      <td>GUEST_INVITE</td>\n",
       "      <td>1.358850e+09</td>\n",
       "      <td>0</td>\n",
       "      <td>0</td>\n",
       "      <td>193</td>\n",
       "      <td>5240.0</td>\n",
       "    </tr>\n",
       "  </tbody>\n",
       "</table>\n",
       "</div>"
      ],
      "text/plain": [
       "   object_id       creation_time               name  \\\n",
       "0          1 2014-04-22 03:53:30     Clausen August   \n",
       "1          2 2013-11-15 03:45:04      Poole Matthew   \n",
       "2          3 2013-03-19 23:14:52  Bottrill Mitchell   \n",
       "3          4 2013-05-21 08:09:28    Clausen Nicklas   \n",
       "4          5 2013-01-17 10:14:20          Raw Grace   \n",
       "\n",
       "                        email creation_source  last_session_creation_time  \\\n",
       "0    AugustCClausen@yahoo.com    GUEST_INVITE                1.398139e+09   \n",
       "1      MatthewPoole@gustr.com      ORG_INVITE                1.396238e+09   \n",
       "2  MitchellBottrill@gustr.com      ORG_INVITE                1.363735e+09   \n",
       "3   NicklasSClausen@yahoo.com    GUEST_INVITE                1.369210e+09   \n",
       "4          GraceRaw@yahoo.com    GUEST_INVITE                1.358850e+09   \n",
       "\n",
       "   opted_in_to_mailing_list  enabled_for_marketing_drip  org_id  \\\n",
       "0                         1                           0      11   \n",
       "1                         0                           0       1   \n",
       "2                         0                           0      94   \n",
       "3                         0                           0       1   \n",
       "4                         0                           0     193   \n",
       "\n",
       "   invited_by_user_id  \n",
       "0             10803.0  \n",
       "1               316.0  \n",
       "2              1525.0  \n",
       "3              5151.0  \n",
       "4              5240.0  "
      ]
     },
     "execution_count": 13,
     "metadata": {},
     "output_type": "execute_result"
    }
   ],
   "source": [
    "users = pd.read_csv('takehome_users.csv', encoding='latin', parse_dates=['creation_time'])\n",
    "users.head()"
   ]
  },
  {
   "cell_type": "code",
   "execution_count": 14,
   "metadata": {},
   "outputs": [
    {
     "data": {
      "text/html": [
       "<div>\n",
       "<style scoped>\n",
       "    .dataframe tbody tr th:only-of-type {\n",
       "        vertical-align: middle;\n",
       "    }\n",
       "\n",
       "    .dataframe tbody tr th {\n",
       "        vertical-align: top;\n",
       "    }\n",
       "\n",
       "    .dataframe thead th {\n",
       "        text-align: right;\n",
       "    }\n",
       "</style>\n",
       "<table border=\"1\" class=\"dataframe\">\n",
       "  <thead>\n",
       "    <tr style=\"text-align: right;\">\n",
       "      <th></th>\n",
       "      <th>creation_time</th>\n",
       "      <th>name</th>\n",
       "      <th>email</th>\n",
       "      <th>creation_source</th>\n",
       "      <th>last_session_creation_time</th>\n",
       "      <th>opted_in_to_mailing_list</th>\n",
       "      <th>enabled_for_marketing_drip</th>\n",
       "      <th>org_id</th>\n",
       "      <th>invited_by_user_id</th>\n",
       "      <th>adopted</th>\n",
       "    </tr>\n",
       "    <tr>\n",
       "      <th>user_id</th>\n",
       "      <th></th>\n",
       "      <th></th>\n",
       "      <th></th>\n",
       "      <th></th>\n",
       "      <th></th>\n",
       "      <th></th>\n",
       "      <th></th>\n",
       "      <th></th>\n",
       "      <th></th>\n",
       "      <th></th>\n",
       "    </tr>\n",
       "  </thead>\n",
       "  <tbody>\n",
       "    <tr>\n",
       "      <th>1</th>\n",
       "      <td>2014-04-22 03:53:30</td>\n",
       "      <td>Clausen August</td>\n",
       "      <td>AugustCClausen@yahoo.com</td>\n",
       "      <td>GUEST_INVITE</td>\n",
       "      <td>1.398139e+09</td>\n",
       "      <td>1</td>\n",
       "      <td>0</td>\n",
       "      <td>11</td>\n",
       "      <td>10803.0</td>\n",
       "      <td>False</td>\n",
       "    </tr>\n",
       "    <tr>\n",
       "      <th>2</th>\n",
       "      <td>2013-11-15 03:45:04</td>\n",
       "      <td>Poole Matthew</td>\n",
       "      <td>MatthewPoole@gustr.com</td>\n",
       "      <td>ORG_INVITE</td>\n",
       "      <td>1.396238e+09</td>\n",
       "      <td>0</td>\n",
       "      <td>0</td>\n",
       "      <td>1</td>\n",
       "      <td>316.0</td>\n",
       "      <td>True</td>\n",
       "    </tr>\n",
       "    <tr>\n",
       "      <th>3</th>\n",
       "      <td>2013-03-19 23:14:52</td>\n",
       "      <td>Bottrill Mitchell</td>\n",
       "      <td>MitchellBottrill@gustr.com</td>\n",
       "      <td>ORG_INVITE</td>\n",
       "      <td>1.363735e+09</td>\n",
       "      <td>0</td>\n",
       "      <td>0</td>\n",
       "      <td>94</td>\n",
       "      <td>1525.0</td>\n",
       "      <td>False</td>\n",
       "    </tr>\n",
       "    <tr>\n",
       "      <th>4</th>\n",
       "      <td>2013-05-21 08:09:28</td>\n",
       "      <td>Clausen Nicklas</td>\n",
       "      <td>NicklasSClausen@yahoo.com</td>\n",
       "      <td>GUEST_INVITE</td>\n",
       "      <td>1.369210e+09</td>\n",
       "      <td>0</td>\n",
       "      <td>0</td>\n",
       "      <td>1</td>\n",
       "      <td>5151.0</td>\n",
       "      <td>False</td>\n",
       "    </tr>\n",
       "    <tr>\n",
       "      <th>5</th>\n",
       "      <td>2013-01-17 10:14:20</td>\n",
       "      <td>Raw Grace</td>\n",
       "      <td>GraceRaw@yahoo.com</td>\n",
       "      <td>GUEST_INVITE</td>\n",
       "      <td>1.358850e+09</td>\n",
       "      <td>0</td>\n",
       "      <td>0</td>\n",
       "      <td>193</td>\n",
       "      <td>5240.0</td>\n",
       "      <td>False</td>\n",
       "    </tr>\n",
       "  </tbody>\n",
       "</table>\n",
       "</div>"
      ],
      "text/plain": [
       "              creation_time               name                       email  \\\n",
       "user_id                                                                      \n",
       "1       2014-04-22 03:53:30     Clausen August    AugustCClausen@yahoo.com   \n",
       "2       2013-11-15 03:45:04      Poole Matthew      MatthewPoole@gustr.com   \n",
       "3       2013-03-19 23:14:52  Bottrill Mitchell  MitchellBottrill@gustr.com   \n",
       "4       2013-05-21 08:09:28    Clausen Nicklas   NicklasSClausen@yahoo.com   \n",
       "5       2013-01-17 10:14:20          Raw Grace          GraceRaw@yahoo.com   \n",
       "\n",
       "        creation_source  last_session_creation_time  opted_in_to_mailing_list  \\\n",
       "user_id                                                                         \n",
       "1          GUEST_INVITE                1.398139e+09                         1   \n",
       "2            ORG_INVITE                1.396238e+09                         0   \n",
       "3            ORG_INVITE                1.363735e+09                         0   \n",
       "4          GUEST_INVITE                1.369210e+09                         0   \n",
       "5          GUEST_INVITE                1.358850e+09                         0   \n",
       "\n",
       "         enabled_for_marketing_drip  org_id  invited_by_user_id adopted  \n",
       "user_id                                                                  \n",
       "1                                 0      11             10803.0   False  \n",
       "2                                 0       1               316.0    True  \n",
       "3                                 0      94              1525.0   False  \n",
       "4                                 0       1              5151.0   False  \n",
       "5                                 0     193              5240.0   False  "
      ]
     },
     "execution_count": 14,
     "metadata": {},
     "output_type": "execute_result"
    }
   ],
   "source": [
    "df = users.rename({'object_id':'user_id'},axis=1).set_index('user_id').join(adopted)\n",
    "df.head()"
   ]
  },
  {
   "cell_type": "code",
   "execution_count": 15,
   "metadata": {},
   "outputs": [
    {
     "data": {
      "text/plain": [
       "creation_time                 datetime64[ns]\n",
       "name                                  object\n",
       "email                                 object\n",
       "creation_source                       object\n",
       "last_session_creation_time           float64\n",
       "opted_in_to_mailing_list               int64\n",
       "enabled_for_marketing_drip             int64\n",
       "org_id                                 int64\n",
       "invited_by_user_id                   float64\n",
       "adopted                               object\n",
       "dtype: object"
      ]
     },
     "execution_count": 15,
     "metadata": {},
     "output_type": "execute_result"
    }
   ],
   "source": [
    "df.dtypes"
   ]
  },
  {
   "cell_type": "code",
   "execution_count": 16,
   "metadata": {},
   "outputs": [
    {
     "data": {
      "text/plain": [
       "creation_time                    0\n",
       "name                             0\n",
       "email                            0\n",
       "creation_source                  0\n",
       "last_session_creation_time    3177\n",
       "opted_in_to_mailing_list         0\n",
       "enabled_for_marketing_drip       0\n",
       "org_id                           0\n",
       "invited_by_user_id            5583\n",
       "adopted                       3177\n",
       "dtype: int64"
      ]
     },
     "execution_count": 16,
     "metadata": {},
     "output_type": "execute_result"
    }
   ],
   "source": [
    "df.isnull().sum()"
   ]
  },
  {
   "cell_type": "code",
   "execution_count": 17,
   "metadata": {},
   "outputs": [
    {
     "data": {
      "text/plain": [
       "creation_time                 11996\n",
       "name                          11355\n",
       "email                         11980\n",
       "creation_source                   5\n",
       "last_session_creation_time     8821\n",
       "opted_in_to_mailing_list          2\n",
       "enabled_for_marketing_drip        2\n",
       "org_id                          417\n",
       "invited_by_user_id             2564\n",
       "adopted                           2\n",
       "dtype: int64"
      ]
     },
     "execution_count": 17,
     "metadata": {},
     "output_type": "execute_result"
    }
   ],
   "source": [
    "df.nunique()"
   ]
  },
  {
   "cell_type": "code",
   "execution_count": 18,
   "metadata": {},
   "outputs": [
    {
     "data": {
      "text/html": [
       "<div>\n",
       "<style scoped>\n",
       "    .dataframe tbody tr th:only-of-type {\n",
       "        vertical-align: middle;\n",
       "    }\n",
       "\n",
       "    .dataframe tbody tr th {\n",
       "        vertical-align: top;\n",
       "    }\n",
       "\n",
       "    .dataframe thead th {\n",
       "        text-align: right;\n",
       "    }\n",
       "</style>\n",
       "<table border=\"1\" class=\"dataframe\">\n",
       "  <thead>\n",
       "    <tr style=\"text-align: right;\">\n",
       "      <th></th>\n",
       "      <th>user_id</th>\n",
       "      <th>creation_time</th>\n",
       "      <th>name</th>\n",
       "      <th>email</th>\n",
       "      <th>creation_source</th>\n",
       "      <th>last_session_creation_time</th>\n",
       "      <th>opted_in_to_mailing_list</th>\n",
       "      <th>enabled_for_marketing_drip</th>\n",
       "      <th>org_id</th>\n",
       "      <th>invited_by_user_id</th>\n",
       "      <th>...</th>\n",
       "      <th>creation_time_invited</th>\n",
       "      <th>name_invited</th>\n",
       "      <th>email_invited</th>\n",
       "      <th>creation_source_invited</th>\n",
       "      <th>last_session_creation_time_invited</th>\n",
       "      <th>opted_in_to_mailing_list_invited</th>\n",
       "      <th>enabled_for_marketing_drip_invited</th>\n",
       "      <th>org_id_invited</th>\n",
       "      <th>invited_by_user_id_invited</th>\n",
       "      <th>adopted_invited</th>\n",
       "    </tr>\n",
       "  </thead>\n",
       "  <tbody>\n",
       "    <tr>\n",
       "      <th>0</th>\n",
       "      <td>1</td>\n",
       "      <td>2014-04-22 03:53:30</td>\n",
       "      <td>Clausen August</td>\n",
       "      <td>AugustCClausen@yahoo.com</td>\n",
       "      <td>GUEST_INVITE</td>\n",
       "      <td>1.398139e+09</td>\n",
       "      <td>1</td>\n",
       "      <td>0</td>\n",
       "      <td>11</td>\n",
       "      <td>10803.0</td>\n",
       "      <td>...</td>\n",
       "      <td>2012-08-09 06:32:29</td>\n",
       "      <td>Sousa Nicolash</td>\n",
       "      <td>lxjxpezn@pmojd.com</td>\n",
       "      <td>SIGNUP</td>\n",
       "      <td>1.344494e+09</td>\n",
       "      <td>0</td>\n",
       "      <td>0</td>\n",
       "      <td>11</td>\n",
       "      <td>NaN</td>\n",
       "      <td>False</td>\n",
       "    </tr>\n",
       "    <tr>\n",
       "      <th>1</th>\n",
       "      <td>2</td>\n",
       "      <td>2013-11-15 03:45:04</td>\n",
       "      <td>Poole Matthew</td>\n",
       "      <td>MatthewPoole@gustr.com</td>\n",
       "      <td>ORG_INVITE</td>\n",
       "      <td>1.396238e+09</td>\n",
       "      <td>0</td>\n",
       "      <td>0</td>\n",
       "      <td>1</td>\n",
       "      <td>316.0</td>\n",
       "      <td>...</td>\n",
       "      <td>2012-08-30 02:58:36</td>\n",
       "      <td>Moran Morgan</td>\n",
       "      <td>MorganMoran@yahoo.com</td>\n",
       "      <td>ORG_INVITE</td>\n",
       "      <td>1.346296e+09</td>\n",
       "      <td>1</td>\n",
       "      <td>0</td>\n",
       "      <td>1</td>\n",
       "      <td>9001.0</td>\n",
       "      <td>False</td>\n",
       "    </tr>\n",
       "    <tr>\n",
       "      <th>2</th>\n",
       "      <td>3817</td>\n",
       "      <td>2013-01-30 12:03:08</td>\n",
       "      <td>Vanzetti Lucas</td>\n",
       "      <td>LucasVanzetti@gustr.com</td>\n",
       "      <td>GUEST_INVITE</td>\n",
       "      <td>NaN</td>\n",
       "      <td>0</td>\n",
       "      <td>0</td>\n",
       "      <td>1</td>\n",
       "      <td>316.0</td>\n",
       "      <td>...</td>\n",
       "      <td>2012-08-30 02:58:36</td>\n",
       "      <td>Moran Morgan</td>\n",
       "      <td>MorganMoran@yahoo.com</td>\n",
       "      <td>ORG_INVITE</td>\n",
       "      <td>1.346296e+09</td>\n",
       "      <td>1</td>\n",
       "      <td>0</td>\n",
       "      <td>1</td>\n",
       "      <td>9001.0</td>\n",
       "      <td>False</td>\n",
       "    </tr>\n",
       "    <tr>\n",
       "      <th>3</th>\n",
       "      <td>5085</td>\n",
       "      <td>2013-03-31 17:12:27</td>\n",
       "      <td>Herzog Michelle</td>\n",
       "      <td>MichelleHerzog@yahoo.com</td>\n",
       "      <td>ORG_INVITE</td>\n",
       "      <td>1.365009e+09</td>\n",
       "      <td>0</td>\n",
       "      <td>0</td>\n",
       "      <td>1</td>\n",
       "      <td>316.0</td>\n",
       "      <td>...</td>\n",
       "      <td>2012-08-30 02:58:36</td>\n",
       "      <td>Moran Morgan</td>\n",
       "      <td>MorganMoran@yahoo.com</td>\n",
       "      <td>ORG_INVITE</td>\n",
       "      <td>1.346296e+09</td>\n",
       "      <td>1</td>\n",
       "      <td>0</td>\n",
       "      <td>1</td>\n",
       "      <td>9001.0</td>\n",
       "      <td>False</td>\n",
       "    </tr>\n",
       "    <tr>\n",
       "      <th>4</th>\n",
       "      <td>3</td>\n",
       "      <td>2013-03-19 23:14:52</td>\n",
       "      <td>Bottrill Mitchell</td>\n",
       "      <td>MitchellBottrill@gustr.com</td>\n",
       "      <td>ORG_INVITE</td>\n",
       "      <td>1.363735e+09</td>\n",
       "      <td>0</td>\n",
       "      <td>0</td>\n",
       "      <td>94</td>\n",
       "      <td>1525.0</td>\n",
       "      <td>...</td>\n",
       "      <td>2012-06-09 23:10:18</td>\n",
       "      <td>Kay Alice</td>\n",
       "      <td>AliceRKay@yahoo.com</td>\n",
       "      <td>GUEST_INVITE</td>\n",
       "      <td>1.357946e+09</td>\n",
       "      <td>1</td>\n",
       "      <td>1</td>\n",
       "      <td>94</td>\n",
       "      <td>9224.0</td>\n",
       "      <td>True</td>\n",
       "    </tr>\n",
       "  </tbody>\n",
       "</table>\n",
       "<p>5 rows × 21 columns</p>\n",
       "</div>"
      ],
      "text/plain": [
       "   user_id       creation_time               name                       email  \\\n",
       "0        1 2014-04-22 03:53:30     Clausen August    AugustCClausen@yahoo.com   \n",
       "1        2 2013-11-15 03:45:04      Poole Matthew      MatthewPoole@gustr.com   \n",
       "2     3817 2013-01-30 12:03:08     Vanzetti Lucas     LucasVanzetti@gustr.com   \n",
       "3     5085 2013-03-31 17:12:27    Herzog Michelle    MichelleHerzog@yahoo.com   \n",
       "4        3 2013-03-19 23:14:52  Bottrill Mitchell  MitchellBottrill@gustr.com   \n",
       "\n",
       "  creation_source  last_session_creation_time  opted_in_to_mailing_list  \\\n",
       "0    GUEST_INVITE                1.398139e+09                         1   \n",
       "1      ORG_INVITE                1.396238e+09                         0   \n",
       "2    GUEST_INVITE                         NaN                         0   \n",
       "3      ORG_INVITE                1.365009e+09                         0   \n",
       "4      ORG_INVITE                1.363735e+09                         0   \n",
       "\n",
       "   enabled_for_marketing_drip  org_id  invited_by_user_id  ...  \\\n",
       "0                           0      11             10803.0  ...   \n",
       "1                           0       1               316.0  ...   \n",
       "2                           0       1               316.0  ...   \n",
       "3                           0       1               316.0  ...   \n",
       "4                           0      94              1525.0  ...   \n",
       "\n",
       "  creation_time_invited    name_invited          email_invited  \\\n",
       "0   2012-08-09 06:32:29  Sousa Nicolash     lxjxpezn@pmojd.com   \n",
       "1   2012-08-30 02:58:36    Moran Morgan  MorganMoran@yahoo.com   \n",
       "2   2012-08-30 02:58:36    Moran Morgan  MorganMoran@yahoo.com   \n",
       "3   2012-08-30 02:58:36    Moran Morgan  MorganMoran@yahoo.com   \n",
       "4   2012-06-09 23:10:18       Kay Alice    AliceRKay@yahoo.com   \n",
       "\n",
       "  creation_source_invited last_session_creation_time_invited  \\\n",
       "0                  SIGNUP                       1.344494e+09   \n",
       "1              ORG_INVITE                       1.346296e+09   \n",
       "2              ORG_INVITE                       1.346296e+09   \n",
       "3              ORG_INVITE                       1.346296e+09   \n",
       "4            GUEST_INVITE                       1.357946e+09   \n",
       "\n",
       "   opted_in_to_mailing_list_invited  enabled_for_marketing_drip_invited  \\\n",
       "0                                 0                                   0   \n",
       "1                                 1                                   0   \n",
       "2                                 1                                   0   \n",
       "3                                 1                                   0   \n",
       "4                                 1                                   1   \n",
       "\n",
       "   org_id_invited  invited_by_user_id_invited  adopted_invited  \n",
       "0              11                         NaN            False  \n",
       "1               1                      9001.0            False  \n",
       "2               1                      9001.0            False  \n",
       "3               1                      9001.0            False  \n",
       "4              94                      9224.0             True  \n",
       "\n",
       "[5 rows x 21 columns]"
      ]
     },
     "execution_count": 18,
     "metadata": {},
     "output_type": "execute_result"
    }
   ],
   "source": [
    "df_merged = df.reset_index().merge(df, left_on='invited_by_user_id', right_on='user_id', suffixes=['', '_invited'])\n",
    "df_merged.head()"
   ]
  },
  {
   "cell_type": "code",
   "execution_count": null,
   "metadata": {},
   "outputs": [],
   "source": []
  },
  {
   "cell_type": "code",
   "execution_count": null,
   "metadata": {},
   "outputs": [],
   "source": []
  },
  {
   "cell_type": "code",
   "execution_count": null,
   "metadata": {},
   "outputs": [],
   "source": []
  },
  {
   "cell_type": "code",
   "execution_count": 17,
   "metadata": {},
   "outputs": [
    {
     "data": {
      "text/plain": [
       "0"
      ]
     },
     "execution_count": 17,
     "metadata": {},
     "output_type": "execute_result"
    }
   ],
   "source": [
    "adopted.isnull().sum()"
   ]
  },
  {
   "cell_type": "code",
   "execution_count": 18,
   "metadata": {},
   "outputs": [
    {
     "data": {
      "text/plain": [
       "(8823, 2)"
      ]
     },
     "execution_count": 18,
     "metadata": {},
     "output_type": "execute_result"
    }
   ],
   "source": [
    "pd.read_csv('takehome_user_engagement.csv').groupby('user_id').count().shape"
   ]
  },
  {
   "cell_type": "code",
   "execution_count": 19,
   "metadata": {},
   "outputs": [
    {
     "data": {
      "text/plain": [
       "(12000, 10)"
      ]
     },
     "execution_count": 19,
     "metadata": {},
     "output_type": "execute_result"
    }
   ],
   "source": [
    "users.shape"
   ]
  },
  {
   "cell_type": "code",
   "execution_count": 32,
   "metadata": {},
   "outputs": [],
   "source": [
    "X = df_merged[~df_merged.adopted.isnull()].drop(['name', 'email','adopted', 'last_session_creation_time', \n",
    "                                                 'creation_time', 'name_invited', 'email_invited', 'invited_by_user_id',\n",
    "                                                 'last_session_creation_time_invited', 'creation_time_invited',\n",
    "                                                 'adopted_invited'], axis=1)\n",
    "y = 1*df_merged[~df_merged.adopted.isnull()].adopted"
   ]
  },
  {
   "cell_type": "code",
   "execution_count": 33,
   "metadata": {},
   "outputs": [],
   "source": [
    "X_train, X_test, y_train, y_test = train_test_split(X, y, test_size=0.2, random_state=42)"
   ]
  },
  {
   "cell_type": "code",
   "execution_count": 34,
   "metadata": {},
   "outputs": [],
   "source": [
    "le = LabelEncoder()\n",
    "X_train.loc[:,'creation_source'] = le.fit_transform(X_train.creation_source)\n",
    "X_test.loc[:,'creation_source'] = le.transform(X_test.creation_source)\n",
    "X_train.loc[:,'creation_source_invited'] = le.fit_transform(X_train.creation_source_invited)\n",
    "X_test.loc[:,'creation_source_invited'] = le.transform(X_test.creation_source_invited)"
   ]
  },
  {
   "cell_type": "code",
   "execution_count": 35,
   "metadata": {},
   "outputs": [
    {
     "data": {
      "text/plain": [
       "(user_id                                 int64\n",
       " creation_source                         int64\n",
       " opted_in_to_mailing_list                int64\n",
       " enabled_for_marketing_drip              int64\n",
       " org_id                                  int64\n",
       " creation_source_invited                 int64\n",
       " opted_in_to_mailing_list_invited        int64\n",
       " enabled_for_marketing_drip_invited      int64\n",
       " org_id_invited                          int64\n",
       " invited_by_user_id_invited            float64\n",
       " dtype: object, user_id                                 int64\n",
       " creation_source                         int64\n",
       " opted_in_to_mailing_list                int64\n",
       " enabled_for_marketing_drip              int64\n",
       " org_id                                  int64\n",
       " creation_source_invited                 int64\n",
       " opted_in_to_mailing_list_invited        int64\n",
       " enabled_for_marketing_drip_invited      int64\n",
       " org_id_invited                          int64\n",
       " invited_by_user_id_invited            float64\n",
       " dtype: object, dtype('O'), dtype('O'))"
      ]
     },
     "execution_count": 35,
     "metadata": {},
     "output_type": "execute_result"
    }
   ],
   "source": [
    "X_train.dtypes, X_test.dtypes, y_train.dtype, y_test.dtype"
   ]
  },
  {
   "cell_type": "code",
   "execution_count": 36,
   "metadata": {},
   "outputs": [],
   "source": [
    "d_train = lgb.Dataset(X_train, label=y_train)"
   ]
  },
  {
   "cell_type": "code",
   "execution_count": 61,
   "metadata": {},
   "outputs": [],
   "source": [
    "params = {}\n",
    "params['learning_rate'] = 0.05 # shrinkage_rate\n",
    "params['sub_feature'] = .8    # feature_fraction (small values => use very different submodels)\n",
    "params['min_data'] = 50         # min_data_in_leaf\n",
    "params['max_depth'] = 4\n",
    "\n",
    "nboost=20"
   ]
  },
  {
   "cell_type": "code",
   "execution_count": 62,
   "metadata": {},
   "outputs": [
    {
     "name": "stdout",
     "output_type": "stream",
     "text": [
      "[5]\tcv_agg's auc: 0.577078 + 0.0190278\n",
      "[10]\tcv_agg's auc: 0.580707 + 0.015296\n",
      "[15]\tcv_agg's auc: 0.584427 + 0.0126232\n",
      "[20]\tcv_agg's auc: 0.58703 + 0.0108541\n",
      "[25]\tcv_agg's auc: 0.586223 + 0.0119813\n",
      "[30]\tcv_agg's auc: 0.586604 + 0.0109503\n",
      "[35]\tcv_agg's auc: 0.585712 + 0.0115647\n",
      "[40]\tcv_agg's auc: 0.585056 + 0.0124275\n",
      "[45]\tcv_agg's auc: 0.58662 + 0.0116417\n",
      "[50]\tcv_agg's auc: 0.586064 + 0.0104887\n"
     ]
    }
   ],
   "source": [
    "cv = lgb.cv(params, d_train, verbose_eval=5, metrics=['auc'], num_boost_round=50, stratified=False)"
   ]
  },
  {
   "cell_type": "code",
   "execution_count": 63,
   "metadata": {},
   "outputs": [],
   "source": [
    "# 5870"
   ]
  },
  {
   "cell_type": "code",
   "execution_count": 64,
   "metadata": {},
   "outputs": [],
   "source": [
    "clf = lgb.train(params, d_train, nboost)\n",
    "pred = clf.predict(X_test).clip(0,1)"
   ]
  },
  {
   "cell_type": "code",
   "execution_count": 65,
   "metadata": {},
   "outputs": [
    {
     "data": {
      "text/plain": [
       "(0, 1, 0.08904500914108514, 0.2810271262362691)"
      ]
     },
     "execution_count": 65,
     "metadata": {},
     "output_type": "execute_result"
    }
   ],
   "source": [
    "y_test.min(), y_test.max(), pred.min(), pred.max()"
   ]
  },
  {
   "cell_type": "code",
   "execution_count": 66,
   "metadata": {},
   "outputs": [
    {
     "data": {
      "text/plain": [
       "2"
      ]
     },
     "execution_count": 66,
     "metadata": {},
     "output_type": "execute_result"
    }
   ],
   "source": [
    "y_test.nunique()"
   ]
  },
  {
   "cell_type": "code",
   "execution_count": 67,
   "metadata": {},
   "outputs": [
    {
     "data": {
      "text/plain": [
       "(adopted    0\n",
       " dtype: int64, 0    0\n",
       " dtype: int64)"
      ]
     },
     "execution_count": 67,
     "metadata": {},
     "output_type": "execute_result"
    }
   ],
   "source": [
    "pd.DataFrame(y_test).isnull().sum(), pd.DataFrame(pred).isnull().sum()"
   ]
  },
  {
   "cell_type": "code",
   "execution_count": 68,
   "metadata": {},
   "outputs": [
    {
     "data": {
      "text/plain": [
       "array([0.15454193, 0.18970188, 0.17600482, 0.20656153, 0.22238914,\n",
       "       0.20570991, 0.19936351, 0.21066215, 0.15708514, 0.21066215,\n",
       "       0.19970083, 0.23421801, 0.23307455, 0.22562319, 0.16243701,\n",
       "       0.19066574, 0.16821589, 0.23771781, 0.09548316, 0.19983428,\n",
       "       0.20963444, 0.19551838, 0.19402697, 0.18922364, 0.09548316,\n",
       "       0.17678466, 0.15836267, 0.17816422, 0.18116146, 0.14984839,\n",
       "       0.18983812, 0.24178524, 0.18548292, 0.20656153, 0.13015342,\n",
       "       0.20208099, 0.18476056, 0.15817455, 0.18476056, 0.23868313,\n",
       "       0.19402697, 0.18476056, 0.21151722, 0.17319482, 0.16767743,\n",
       "       0.18549855, 0.16159767, 0.15817455, 0.1913881 , 0.12072058,\n",
       "       0.17546647, 0.21831924, 0.17427613, 0.14639331, 0.23139495,\n",
       "       0.22497951, 0.18609087, 0.24293378, 0.17021996, 0.11032822,\n",
       "       0.23868313, 0.13018108, 0.19970083, 0.18257759, 0.18484924,\n",
       "       0.14639331, 0.18476056, 0.16149438, 0.18476056, 0.24197761,\n",
       "       0.17723852, 0.21035521, 0.15463984, 0.18200858, 0.17537779,\n",
       "       0.18037247, 0.15836267, 0.16181261, 0.18340714, 0.21324209,\n",
       "       0.16956129, 0.24178524, 0.21180561, 0.18467197, 0.14282062,\n",
       "       0.18342162, 0.18588804, 0.18468223, 0.23790328, 0.18037022,\n",
       "       0.17181978, 0.09806137, 0.12322215, 0.18476056, 0.14282062,\n",
       "       0.18741488, 0.21435309, 0.23421801, 0.23421801, 0.18906482,\n",
       "       0.15998139, 0.17537779, 0.14695304, 0.16460635, 0.19066574,\n",
       "       0.20445004, 0.18398072, 0.16070282, 0.22115808, 0.23307455,\n",
       "       0.16956129, 0.23868313, 0.17142261, 0.18697796, 0.23421801,\n",
       "       0.17546647, 0.17894406, 0.25153755, 0.11744598, 0.18476056,\n",
       "       0.18476056, 0.1836036 , 0.18476056, 0.14282062, 0.18892632,\n",
       "       0.14531693, 0.22562319, 0.19804178, 0.22484335, 0.17492023,\n",
       "       0.22562319, 0.21022464, 0.19637193, 0.17678466, 0.22115808,\n",
       "       0.2473456 , 0.25995493, 0.18398072, 0.14318   , 0.25701056,\n",
       "       0.18484924, 0.22817808, 0.18741488, 0.17894406, 0.24988028,\n",
       "       0.14639331, 0.17894406, 0.23676549, 0.22238914, 0.20945754,\n",
       "       0.22161144, 0.19806509, 0.14282062, 0.21699023, 0.22875852,\n",
       "       0.17330707, 0.14282062, 0.22115808, 0.28102713, 0.19897257,\n",
       "       0.17848563, 0.17427613, 0.15204562, 0.17900206, 0.24819722,\n",
       "       0.24988028, 0.19464748, 0.24787938, 0.22562319, 0.14954371,\n",
       "       0.20480572, 0.21627072, 0.22161144, 0.16017081, 0.19551838,\n",
       "       0.17913282, 0.14639331, 0.18128297, 0.21296177, 0.12267142,\n",
       "       0.12049477, 0.19098757, 0.21409371, 0.15226937, 0.24583712,\n",
       "       0.09415799, 0.17894406, 0.15454193, 0.20945754, 0.18484924,\n",
       "       0.19368659, 0.22562319, 0.20445004, 0.16968817, 0.22817067,\n",
       "       0.21619726, 0.14081805, 0.15454193, 0.20289689, 0.21627072,\n",
       "       0.20480572, 0.19745515, 0.23868313, 0.15836267, 0.16904708,\n",
       "       0.1403187 , 0.18325964, 0.23307455, 0.19325442, 0.10694348,\n",
       "       0.2780787 , 0.17894406, 0.21066215, 0.16460635, 0.18299857,\n",
       "       0.16793255, 0.18476056, 0.24178524, 0.16346617, 0.16397049,\n",
       "       0.19066574, 0.21864151, 0.10775899, 0.16238216, 0.25276438,\n",
       "       0.19488132, 0.14282062, 0.15758283, 0.16644123, 0.17894406,\n",
       "       0.18983812, 0.17663748, 0.15758595, 0.23790328, 0.12322215,\n",
       "       0.14559452, 0.16881206, 0.09998455, 0.18398072, 0.26141674,\n",
       "       0.21864151, 0.19291949, 0.17087893, 0.16968817, 0.19446643,\n",
       "       0.18476056, 0.18476056, 0.23868313, 0.21150713, 0.24988028,\n",
       "       0.22746788, 0.23868313, 0.16956129, 0.14282062, 0.19560368,\n",
       "       0.21627072, 0.23730183, 0.22817067, 0.18983812, 0.19446643,\n",
       "       0.20570991, 0.26127298, 0.15454193, 0.15958705, 0.19369933,\n",
       "       0.15204562, 0.18711306, 0.19506727, 0.14639331, 0.16239938,\n",
       "       0.15836267, 0.18476056, 0.1173956 , 0.24740513, 0.19066574,\n",
       "       0.26690858, 0.23152122, 0.18089225, 0.24293378, 0.18476056,\n",
       "       0.17894406, 0.1961776 , 0.22484335, 0.22370556, 0.19176016,\n",
       "       0.10171418, 0.23307455, 0.24178524, 0.14954371, 0.17628285,\n",
       "       0.18089225, 0.18835274, 0.18476056, 0.19066574, 0.15836267,\n",
       "       0.13138863, 0.23000218, 0.18476056, 0.1474428 , 0.22192636,\n",
       "       0.17537779, 0.18690268, 0.14639331, 0.22016401, 0.12979848,\n",
       "       0.18484924, 0.17894406, 0.22484335, 0.15713012, 0.23868313,\n",
       "       0.18476056, 0.18031911, 0.23868313, 0.19884494, 0.20805835,\n",
       "       0.14984839, 0.19897257, 0.14984839, 0.19884494, 0.20963444,\n",
       "       0.17894406, 0.24123061, 0.17678466, 0.22497951, 0.12743231,\n",
       "       0.18754247, 0.17894406, 0.24871867, 0.15454149, 0.21627072,\n",
       "       0.1696944 , 0.2329384 , 0.17928112, 0.19551838, 0.21324209,\n",
       "       0.22562319, 0.18116146, 0.19858562, 0.18476056, 0.1714174 ,\n",
       "       0.22115808, 0.15149489, 0.18717854, 0.16559599, 0.18476056,\n",
       "       0.16243701, 0.18484924, 0.22227818, 0.21627072, 0.24228281,\n",
       "       0.21409371, 0.24988028, 0.22817808, 0.18585499, 0.14664076,\n",
       "       0.23421801, 0.17894406, 0.26127298, 0.24472481, 0.1403187 ,\n",
       "       0.1696944 , 0.18970188, 0.17894406, 0.19066574, 0.14531693,\n",
       "       0.18476056, 0.2551633 , 0.17816422, 0.23822998, 0.2188182 ,\n",
       "       0.16821589, 0.17546647, 0.20963444, 0.15454193, 0.22562319,\n",
       "       0.2046437 , 0.13448095, 0.18310982, 0.23000218, 0.17894406,\n",
       "       0.16420568, 0.22484335, 0.2780787 , 0.17894406, 0.17034662,\n",
       "       0.23307455, 0.17610472, 0.20570991, 0.23868313, 0.16239938,\n",
       "       0.23000218, 0.19066574, 0.18970188, 0.23020331, 0.21041429,\n",
       "       0.24690753, 0.15191502, 0.21035521, 0.18476056, 0.14531693,\n",
       "       0.15867391, 0.18470308, 0.202589  , 0.22562319, 0.24178524,\n",
       "       0.18484924, 0.18741488, 0.21864151, 0.14282062, 0.21180561,\n",
       "       0.15758283, 0.17894406, 0.18476056, 0.202589  , 0.17391931,\n",
       "       0.21477222, 0.17537779, 0.23421801, 0.14282062, 0.17330707,\n",
       "       0.18398072, 0.22925313, 0.21066215, 0.265164  , 0.09223839,\n",
       "       0.15454193, 0.23868313, 0.17628285, 0.24178524, 0.16301732,\n",
       "       0.20211671, 0.22484335, 0.21151722, 0.1961776 , 0.16070282,\n",
       "       0.26127298, 0.19402697, 0.23494778, 0.16821589, 0.17397009,\n",
       "       0.18128297, 0.25657965, 0.18484924, 0.17894406, 0.13078389,\n",
       "       0.22171006, 0.21864151, 0.20208099, 0.24178524, 0.17114746,\n",
       "       0.15817455, 0.16568121, 0.18398072, 0.13066342, 0.21864151,\n",
       "       0.17537779, 0.22484335, 0.18484924, 0.17537779, 0.22562319,\n",
       "       0.20945754, 0.15836267, 0.17894406, 0.18906482, 0.23412794,\n",
       "       0.20325238, 0.19098757, 0.19637193, 0.17894406, 0.10775899,\n",
       "       0.24022132, 0.25103088, 0.17537779, 0.1403187 , 0.17178215,\n",
       "       0.17537779, 0.13355737, 0.13667275, 0.17546647, 0.21022464,\n",
       "       0.18476056, 0.23790328, 0.14282062, 0.14282062, 0.19402697,\n",
       "       0.22244499, 0.16344096, 0.18476056, 0.19551838, 0.19953035,\n",
       "       0.19523775, 0.21627072, 0.23676549, 0.18484924, 0.23868313,\n",
       "       0.12900988, 0.23307455, 0.22562319, 0.19184828, 0.15204562,\n",
       "       0.14318164, 0.15581822, 0.1678447 , 0.21409371, 0.14639331,\n",
       "       0.17678466, 0.17678466, 0.18037247, 0.22370556, 0.16821589,\n",
       "       0.19523775, 0.20579308, 0.20656153, 0.22161144, 0.14639331,\n",
       "       0.20289689, 0.17894406, 0.17103993, 0.17537779, 0.2780787 ,\n",
       "       0.16767743, 0.17264435, 0.14282062, 0.20535851, 0.16595941,\n",
       "       0.18718551, 0.19892951, 0.17894406, 0.16956129, 0.20347095,\n",
       "       0.18906482, 0.10835048, 0.10654938, 0.17447904, 0.12367184,\n",
       "       0.13925096, 0.14639331, 0.18484924, 0.22050431, 0.16123019,\n",
       "       0.21864151, 0.19551838, 0.099791  , 0.14282062, 0.23000218,\n",
       "       0.21059523, 0.26890482, 0.09588762, 0.17894406, 0.18613561,\n",
       "       0.22562319, 0.15867391, 0.21409371, 0.1909694 , 0.09548316,\n",
       "       0.17894406, 0.20656153, 0.23965095, 0.22746788, 0.20103902,\n",
       "       0.21324209, 0.16690009, 0.24293378, 0.20037161, 0.2780787 ,\n",
       "       0.16536261, 0.25118023, 0.1403187 , 0.17816422, 0.17537779,\n",
       "       0.21775682, 0.19574329, 0.23371824, 0.12049477, 0.18476056,\n",
       "       0.14062338, 0.16983218, 0.16239938, 0.22562319, 0.21627072,\n",
       "       0.17546647, 0.18476056, 0.22562319, 0.15561832, 0.22562319,\n",
       "       0.22050431, 0.17537779, 0.21864151, 0.17816422, 0.23000218,\n",
       "       0.18239603, 0.18476056, 0.17894406, 0.18239603, 0.18562121,\n",
       "       0.1696944 , 0.13078389, 0.18706663, 0.22484335, 0.18476056,\n",
       "       0.16460635, 0.14282062, 0.19184828, 0.15545463, 0.23651428,\n",
       "       0.15454193, 0.19858562, 0.14282062, 0.12414101, 0.17894406,\n",
       "       0.26562817, 0.18484924, 0.21205831, 0.23307455, 0.190621  ,\n",
       "       0.20963444, 0.14282062, 0.1386375 , 0.18476056, 0.09998455,\n",
       "       0.19445791, 0.09806495, 0.15454193, 0.16821589, 0.25103088,\n",
       "       0.17034662, 0.23868313, 0.21864151, 0.22562319, 0.17678466,\n",
       "       0.24988028, 0.14639331, 0.18398072, 0.24554897, 0.17678466,\n",
       "       0.18545381, 0.15050755, 0.15052573, 0.17894406, 0.17064276,\n",
       "       0.22611281, 0.19745515, 0.27126377, 0.1909694 , 0.21775682,\n",
       "       0.18398072, 0.19806509, 0.16420568, 0.17894406, 0.18970188,\n",
       "       0.20891311, 0.12511359, 0.20445004, 0.19506727, 0.18398072,\n",
       "       0.15867391, 0.17597657, 0.18398072, 0.16420568, 0.20594918,\n",
       "       0.18697796, 0.22562319, 0.22562319, 0.20155915, 0.17114746,\n",
       "       0.18476056, 0.17537779, 0.18398072, 0.16956129, 0.14695304,\n",
       "       0.14541267, 0.21041429, 0.22484335, 0.19936351, 0.17537779,\n",
       "       0.11166236, 0.23718463, 0.24293378, 0.23371824, 0.23000218,\n",
       "       0.22746788, 0.18970188, 0.16223605, 0.17894406, 0.15204562,\n",
       "       0.11200329, 0.15418426, 0.2335775 , 0.20570991, 0.22484335,\n",
       "       0.18095042, 0.23868313, 0.16211004, 0.18340714, 0.2780787 ,\n",
       "       0.20945754, 0.19591673, 0.14282062, 0.19402697, 0.24871867,\n",
       "       0.22497951, 0.19066574, 0.18037247, 0.23000218, 0.26890482,\n",
       "       0.20849666, 0.16968817, 0.12049477, 0.21627072, 0.17537779,\n",
       "       0.2329384 , 0.17894406, 0.15561832, 0.17537779, 0.22016401,\n",
       "       0.17371321, 0.09806137, 0.24178524, 0.21775682, 0.21041429,\n",
       "       0.22370556, 0.18922364, 0.19547364, 0.18484924, 0.23790328,\n",
       "       0.14282062, 0.14695304, 0.21022464, 0.26890482, 0.18906482,\n",
       "       0.17034662, 0.15157522, 0.21151722, 0.21022464, 0.19523775,\n",
       "       0.18031911, 0.22497951, 0.18476056, 0.11601335, 0.16099588,\n",
       "       0.17894406, 0.12845538, 0.17984087, 0.11814237, 0.23371824,\n",
       "       0.26890482, 0.26890482, 0.15561832, 0.15418426, 0.24988028,\n",
       "       0.19884494, 0.23494778, 0.22484335, 0.21339836, 0.20570991,\n",
       "       0.21205831, 0.21041429, 0.21864151, 0.18476056, 0.20037161,\n",
       "       0.14695304, 0.21324209, 0.23000218, 0.16536261, 0.22562319,\n",
       "       0.17598553, 0.09806137, 0.21324209, 0.25126632, 0.14984839,\n",
       "       0.18476056, 0.20594918, 0.17816422, 0.18116146, 0.14282062,\n",
       "       0.23566266, 0.23868313, 0.23412794, 0.18325964, 0.12049477,\n",
       "       0.17402437, 0.14639331, 0.23868313, 0.13000845, 0.18484924,\n",
       "       0.20599557, 0.17894406, 0.19858562, 0.14282062, 0.15204562,\n",
       "       0.15867391, 0.18970188, 0.18476056, 0.22817808, 0.18476056,\n",
       "       0.18240598, 0.11032822, 0.18892632, 0.22590843, 0.12072058,\n",
       "       0.14115417, 0.16866933, 0.24433877, 0.14915198, 0.18476056,\n",
       "       0.13804517, 0.21627072, 0.20594918, 0.23868313, 0.16809248,\n",
       "       0.23000218, 0.16881206, 0.1696944 , 0.12009321, 0.18398072,\n",
       "       0.16956129, 0.16063299, 0.18970188, 0.18476056, 0.23790328,\n",
       "       0.17678466, 0.19487858, 0.18484924, 0.1403187 , 0.16956129,\n",
       "       0.14389139, 0.19168935, 0.17816422, 0.21022464, 0.17537779,\n",
       "       0.21065551, 0.1274518 , 0.23307455, 0.16023998, 0.18398072,\n",
       "       0.20891311, 0.20208099, 0.21864151, 0.190621  , 0.10171418,\n",
       "       0.23868313, 0.21818769, 0.14282062, 0.18613561, 0.23868313,\n",
       "       0.17894406, 0.14639331, 0.18398072, 0.21409371, 0.17815971,\n",
       "       0.19983428, 0.20656153, 0.18946217, 0.19368659, 0.23790328,\n",
       "       0.1696944 , 0.22746788, 0.189946  , 0.23868313, 0.18646353,\n",
       "       0.21035521, 0.17894406, 0.25109323, 0.18548292, 0.22562319,\n",
       "       0.25415701, 0.23790328, 0.21520785, 0.1913881 , 0.13098761,\n",
       "       0.22115808, 0.14062338, 0.22611281, 0.14531693, 0.15050755,\n",
       "       0.23421801, 0.21065551, 0.20475011, 0.22497951, 0.18398072,\n",
       "       0.15561832, 0.24567162, 0.22177047, 0.18424435, 0.23868313,\n",
       "       0.21041429, 0.23868313, 0.22484335, 0.25271088, 0.17537424,\n",
       "       0.17103993, 0.19387066, 0.19387066, 0.09037018, 0.14756421,\n",
       "       0.19098757, 0.20570991, 0.24988028, 0.22746788, 0.17866593,\n",
       "       0.17034662, 0.23790328, 0.19066574, 0.18116146, 0.22497951,\n",
       "       0.18476056, 0.15713012, 0.23790328, 0.17537779, 0.23868313,\n",
       "       0.14639331, 0.16645772, 0.23574395, 0.20326817, 0.1913881 ,\n",
       "       0.22733474, 0.14078644, 0.1386375 , 0.24293378, 0.17546647,\n",
       "       0.17894406, 0.10444711, 0.17816422, 0.19446643, 0.14389139,\n",
       "       0.18491296, 0.08904501, 0.19977583, 0.23619644, 0.23868313,\n",
       "       0.12129897, 0.17894406, 0.17816422, 0.21864151, 0.24657045,\n",
       "       0.17069741, 0.20963444, 0.23868313, 0.23868313, 0.19804178,\n",
       "       0.17141242, 0.18471582, 0.19551838, 0.15545463, 0.23868313,\n",
       "       0.16239938, 0.17816422, 0.16239938, 0.22562319, 0.18491296,\n",
       "       0.17678466, 0.18037022, 0.14639331, 0.21399617, 0.23868313,\n",
       "       0.23412794])"
      ]
     },
     "execution_count": 68,
     "metadata": {},
     "output_type": "execute_result"
    }
   ],
   "source": [
    "pred"
   ]
  },
  {
   "cell_type": "code",
   "execution_count": 69,
   "metadata": {},
   "outputs": [
    {
     "data": {
      "text/plain": [
       "((956,), (956,))"
      ]
     },
     "execution_count": 69,
     "metadata": {},
     "output_type": "execute_result"
    }
   ],
   "source": [
    "y_test.shape, pred.shape"
   ]
  },
  {
   "cell_type": "code",
   "execution_count": 70,
   "metadata": {},
   "outputs": [],
   "source": [
    "cutoff = .25"
   ]
  },
  {
   "cell_type": "code",
   "execution_count": 71,
   "metadata": {},
   "outputs": [
    {
     "name": "stdout",
     "output_type": "stream",
     "text": [
      "[[737  26]\n",
      " [187   6]]\n"
     ]
    }
   ],
   "source": [
    "print( confusion_matrix(y_test.values.astype('bool'), pred>cutoff) )"
   ]
  },
  {
   "cell_type": "code",
   "execution_count": 72,
   "metadata": {},
   "outputs": [
    {
     "data": {
      "text/plain": [
       "0.7771966527196653"
      ]
     },
     "execution_count": 72,
     "metadata": {},
     "output_type": "execute_result"
    }
   ],
   "source": [
    "accuracy_score(y_test.values.astype('bool'), pred>cutoff)"
   ]
  },
  {
   "cell_type": "code",
   "execution_count": 73,
   "metadata": {},
   "outputs": [
    {
     "name": "stdout",
     "output_type": "stream",
     "text": [
      "Test set ROC AUC: 0.5290610421094806\n"
     ]
    },
    {
     "data": {
      "image/png": "[encoded data removed]",
      "text/plain": [
       "<Figure size 640x480 with 1 Axes>"
      ]
     },
     "metadata": {},
     "output_type": "display_data"
    }
   ],
   "source": [
    "fpr, tpr, _ = roc_curve(y_test.values.astype('bool'), pred)\n",
    "roc_auc = auc(fpr, tpr)\n",
    "\n",
    "plt.style.use('default')\n",
    "plt.figure()\n",
    "plt.plot(fpr, tpr, color='darkorange',\n",
    "         lw=1, label='ROC curve (area = %0.3f)' % roc_auc)\n",
    "plt.plot([0, 1], [0, 1], color='navy', lw=1, linestyle='--')\n",
    "plt.xlim([0.0, 1.0])\n",
    "plt.ylim([0.0, 1.05])\n",
    "plt.xlabel('False Positive Rate')\n",
    "plt.ylabel('True Positive Rate')\n",
    "plt.title('Receiver operating characteristic curve')\n",
    "plt.legend(loc=\"lower right\")\n",
    "print('Test set ROC AUC: {}'.format(auc(fpr, tpr)))\n",
    "plt.show()"
   ]
  },
  {
   "cell_type": "code",
   "execution_count": 74,
   "metadata": {},
   "outputs": [
    {
     "data": {
      "image/png": "[encoded data removed]",
      "text/plain": [
       "<Figure size 800x700 with 1 Axes>"
      ]
     },
     "metadata": {},
     "output_type": "display_data"
    }
   ],
   "source": [
    "warnings.simplefilter(action='ignore', category=FutureWarning)\n",
    "\n",
    "feature_imp = pd.DataFrame(sorted(zip(clf.feature_importance(),X.columns)), columns=['Value','Feature'])\n",
    "\n",
    "plt.figure(figsize=(8, 7))\n",
    "sns.set(font_scale = 1.5)\n",
    "sns.barplot(x=\"Value\", y=\"Feature\", data=feature_imp.sort_values(by=\"Value\", ascending=False))\n",
    "plt.title('LightGBM Features')\n",
    "plt.tight_layout()\n",
    "plt.show()"
   ]
  },
  {
   "cell_type": "code",
   "execution_count": 40,
   "metadata": {},
   "outputs": [
    {
     "data": {
      "text/plain": [
       "(Timestamp('2012-05-31 08:20:06'), Timestamp('2014-06-06 14:58:50'))"
      ]
     },
     "execution_count": 40,
     "metadata": {},
     "output_type": "execute_result"
    }
   ],
   "source": [
    "summary.time_stamp.min(), summary.time_stamp.max()"
   ]
  },
  {
   "cell_type": "code",
   "execution_count": 41,
   "metadata": {},
   "outputs": [
    {
     "data": {
      "text/plain": [
       "(Timestamp('2012-05-31 00:43:27'), Timestamp('2014-05-30 23:59:19'))"
      ]
     },
     "execution_count": 41,
     "metadata": {},
     "output_type": "execute_result"
    }
   ],
   "source": [
    "df.creation_time.min(), df.creation_time.max()"
   ]
  },
  {
   "cell_type": "code",
   "execution_count": null,
   "metadata": {},
   "outputs": [],
   "source": []
  }
 ],
 "metadata": {
  "kernelspec": {
   "display_name": "Python 3",
   "language": "python",
   "name": "python3"
  },
  "language_info": {
   "codemirror_mode": {
    "name": "ipython",
    "version": 3
   },
   "file_extension": ".py",
   "mimetype": "text/x-python",
   "name": "python",
   "nbconvert_exporter": "python",
   "pygments_lexer": "ipython3",
   "version": "3.7.3"
  }
 },
 "nbformat": 4,
 "nbformat_minor": 2
}
