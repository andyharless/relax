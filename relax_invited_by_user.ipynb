{
 "cells": [
  {
   "cell_type": "code",
   "execution_count": 2,
   "metadata": {},
   "outputs": [],
   "source": [
    "import pandas as pd\n",
    "import numpy as np\n",
    "from datetime import datetime\n",
    "import lightgbm as lgb\n",
    "import matplotlib.pyplot as plt\n",
    "import seaborn as sns\n",
    "import warnings\n",
    "from sklearn.model_selection import train_test_split, KFold\n",
    "import sklearn.model_selection\n",
    "from sklearn.preprocessing import LabelEncoder\n",
    "from sklearn.metrics import confusion_matrix, accuracy_score, f1_score, roc_curve, auc"
   ]
  },
  {
   "cell_type": "code",
   "execution_count": 3,
   "metadata": {},
   "outputs": [
    {
     "name": "stdout",
     "output_type": "stream",
     "text": [
      "README.md\t\t\t  relax_no_creation_time.ipynb\r\n",
      "relax_data_science_challenge.pdf  relax_no_session_time.ipynb\r\n",
      "relax_invited_by_user.ipynb\t  takehome_user_engagement.csv\r\n",
      "relax.ipynb\t\t\t  takehome_users.csv\r\n"
     ]
    }
   ],
   "source": [
    "!ls"
   ]
  },
  {
   "cell_type": "code",
   "execution_count": 4,
   "metadata": {
    "scrolled": true
   },
   "outputs": [
    {
     "data": {
      "text/html": [
       "<div>\n",
       "<style scoped>\n",
       "    .dataframe tbody tr th:only-of-type {\n",
       "        vertical-align: middle;\n",
       "    }\n",
       "\n",
       "    .dataframe tbody tr th {\n",
       "        vertical-align: top;\n",
       "    }\n",
       "\n",
       "    .dataframe thead th {\n",
       "        text-align: right;\n",
       "    }\n",
       "</style>\n",
       "<table border=\"1\" class=\"dataframe\">\n",
       "  <thead>\n",
       "    <tr style=\"text-align: right;\">\n",
       "      <th></th>\n",
       "      <th>time_stamp</th>\n",
       "      <th>user_id</th>\n",
       "      <th>visited</th>\n",
       "    </tr>\n",
       "  </thead>\n",
       "  <tbody>\n",
       "    <tr>\n",
       "      <th>0</th>\n",
       "      <td>2014-04-22 03:53:30</td>\n",
       "      <td>1</td>\n",
       "      <td>1</td>\n",
       "    </tr>\n",
       "    <tr>\n",
       "      <th>1</th>\n",
       "      <td>2013-11-15 03:45:04</td>\n",
       "      <td>2</td>\n",
       "      <td>1</td>\n",
       "    </tr>\n",
       "    <tr>\n",
       "      <th>2</th>\n",
       "      <td>2013-11-29 03:45:04</td>\n",
       "      <td>2</td>\n",
       "      <td>1</td>\n",
       "    </tr>\n",
       "    <tr>\n",
       "      <th>3</th>\n",
       "      <td>2013-12-09 03:45:04</td>\n",
       "      <td>2</td>\n",
       "      <td>1</td>\n",
       "    </tr>\n",
       "    <tr>\n",
       "      <th>4</th>\n",
       "      <td>2013-12-25 03:45:04</td>\n",
       "      <td>2</td>\n",
       "      <td>1</td>\n",
       "    </tr>\n",
       "  </tbody>\n",
       "</table>\n",
       "</div>"
      ],
      "text/plain": [
       "           time_stamp  user_id  visited\n",
       "0 2014-04-22 03:53:30        1        1\n",
       "1 2013-11-15 03:45:04        2        1\n",
       "2 2013-11-29 03:45:04        2        1\n",
       "3 2013-12-09 03:45:04        2        1\n",
       "4 2013-12-25 03:45:04        2        1"
      ]
     },
     "execution_count": 4,
     "metadata": {},
     "output_type": "execute_result"
    }
   ],
   "source": [
    "summary = pd.read_csv('takehome_user_engagement.csv', parse_dates=['time_stamp'])\n",
    "summary.head()"
   ]
  },
  {
   "cell_type": "code",
   "execution_count": 5,
   "metadata": {},
   "outputs": [
    {
     "data": {
      "text/plain": [
       "time_stamp    datetime64[ns]\n",
       "user_id                int64\n",
       "visited                int64\n",
       "dtype: object"
      ]
     },
     "execution_count": 5,
     "metadata": {},
     "output_type": "execute_result"
    }
   ],
   "source": [
    "summary.dtypes"
   ]
  },
  {
   "cell_type": "code",
   "execution_count": 6,
   "metadata": {},
   "outputs": [
    {
     "data": {
      "text/plain": [
       "1    207917\n",
       "Name: visited, dtype: int64"
      ]
     },
     "execution_count": 6,
     "metadata": {},
     "output_type": "execute_result"
    }
   ],
   "source": [
    "summary.visited.value_counts(dropna=False)"
   ]
  },
  {
   "cell_type": "code",
   "execution_count": 7,
   "metadata": {},
   "outputs": [
    {
     "data": {
      "text/html": [
       "<div>\n",
       "<style scoped>\n",
       "    .dataframe tbody tr th:only-of-type {\n",
       "        vertical-align: middle;\n",
       "    }\n",
       "\n",
       "    .dataframe tbody tr th {\n",
       "        vertical-align: top;\n",
       "    }\n",
       "\n",
       "    .dataframe thead th {\n",
       "        text-align: right;\n",
       "    }\n",
       "</style>\n",
       "<table border=\"1\" class=\"dataframe\">\n",
       "  <thead>\n",
       "    <tr style=\"text-align: right;\">\n",
       "      <th></th>\n",
       "      <th>time_stamp</th>\n",
       "      <th>user_id</th>\n",
       "      <th>visited</th>\n",
       "      <th>date</th>\n",
       "    </tr>\n",
       "  </thead>\n",
       "  <tbody>\n",
       "    <tr>\n",
       "      <th>0</th>\n",
       "      <td>2014-04-22 03:53:30</td>\n",
       "      <td>1</td>\n",
       "      <td>1</td>\n",
       "      <td>735345</td>\n",
       "    </tr>\n",
       "    <tr>\n",
       "      <th>1</th>\n",
       "      <td>2013-11-15 03:45:04</td>\n",
       "      <td>2</td>\n",
       "      <td>1</td>\n",
       "      <td>735187</td>\n",
       "    </tr>\n",
       "    <tr>\n",
       "      <th>2</th>\n",
       "      <td>2013-11-29 03:45:04</td>\n",
       "      <td>2</td>\n",
       "      <td>1</td>\n",
       "      <td>735201</td>\n",
       "    </tr>\n",
       "    <tr>\n",
       "      <th>3</th>\n",
       "      <td>2013-12-09 03:45:04</td>\n",
       "      <td>2</td>\n",
       "      <td>1</td>\n",
       "      <td>735211</td>\n",
       "    </tr>\n",
       "    <tr>\n",
       "      <th>4</th>\n",
       "      <td>2013-12-25 03:45:04</td>\n",
       "      <td>2</td>\n",
       "      <td>1</td>\n",
       "      <td>735227</td>\n",
       "    </tr>\n",
       "  </tbody>\n",
       "</table>\n",
       "</div>"
      ],
      "text/plain": [
       "           time_stamp  user_id  visited    date\n",
       "0 2014-04-22 03:53:30        1        1  735345\n",
       "1 2013-11-15 03:45:04        2        1  735187\n",
       "2 2013-11-29 03:45:04        2        1  735201\n",
       "3 2013-12-09 03:45:04        2        1  735211\n",
       "4 2013-12-25 03:45:04        2        1  735227"
      ]
     },
     "execution_count": 7,
     "metadata": {},
     "output_type": "execute_result"
    }
   ],
   "source": [
    "summary['date'] = summary.time_stamp.apply(datetime.toordinal)\n",
    "summary.head()"
   ]
  },
  {
   "cell_type": "code",
   "execution_count": 8,
   "metadata": {},
   "outputs": [
    {
     "data": {
      "text/plain": [
       "1.0"
      ]
     },
     "execution_count": 8,
     "metadata": {},
     "output_type": "execute_result"
    }
   ],
   "source": [
    "# Verify that dates are sorted\n",
    "summary.groupby('user_id').date.diff().min()"
   ]
  },
  {
   "cell_type": "code",
   "execution_count": 9,
   "metadata": {},
   "outputs": [
    {
     "data": {
      "text/plain": [
       "user_id\n",
       "1     False\n",
       "2      True\n",
       "3     False\n",
       "4     False\n",
       "5     False\n",
       "6     False\n",
       "7     False\n",
       "10     True\n",
       "11    False\n",
       "13    False\n",
       "14    False\n",
       "17    False\n",
       "19    False\n",
       "20     True\n",
       "21    False\n",
       "22    False\n",
       "23    False\n",
       "24    False\n",
       "25    False\n",
       "27    False\n",
       "Name: adopted, dtype: bool"
      ]
     },
     "execution_count": 9,
     "metadata": {},
     "output_type": "execute_result"
    }
   ],
   "source": [
    "adopted = (pd.DataFrame(summary.groupby(\n",
    "            ['user_id','date']).visited.max()).reset_index().groupby(\n",
    "             'user_id').date.rolling(window=3).apply(lambda x: x[2] - x[0], raw=True).groupby(\n",
    "             'user_id').min() < 7)\n",
    "adopted.name = 'adopted'\n",
    "adopted.head(20)"
   ]
  },
  {
   "cell_type": "code",
   "execution_count": 10,
   "metadata": {},
   "outputs": [
    {
     "data": {
      "text/plain": [
       "user_id\n",
       "1       1\n",
       "2      14\n",
       "3       1\n",
       "4       1\n",
       "5       1\n",
       "6       1\n",
       "7       1\n",
       "10    284\n",
       "11      1\n",
       "13      1\n",
       "Name: date, dtype: int64"
      ]
     },
     "execution_count": 10,
     "metadata": {},
     "output_type": "execute_result"
    }
   ],
   "source": [
    "counts = (pd.DataFrame(summary.groupby(\n",
    "            ['user_id','date']).visited.max()).reset_index().groupby(\n",
    "             'user_id').date.count())\n",
    "counts.head(10)"
   ]
  },
  {
   "cell_type": "code",
   "execution_count": 11,
   "metadata": {},
   "outputs": [
    {
     "data": {
      "text/html": [
       "<div>\n",
       "<style scoped>\n",
       "    .dataframe tbody tr th:only-of-type {\n",
       "        vertical-align: middle;\n",
       "    }\n",
       "\n",
       "    .dataframe tbody tr th {\n",
       "        vertical-align: top;\n",
       "    }\n",
       "\n",
       "    .dataframe thead th {\n",
       "        text-align: right;\n",
       "    }\n",
       "</style>\n",
       "<table border=\"1\" class=\"dataframe\">\n",
       "  <thead>\n",
       "    <tr style=\"text-align: right;\">\n",
       "      <th></th>\n",
       "      <th>date</th>\n",
       "      <th>adopted</th>\n",
       "    </tr>\n",
       "    <tr>\n",
       "      <th>user_id</th>\n",
       "      <th></th>\n",
       "      <th></th>\n",
       "    </tr>\n",
       "  </thead>\n",
       "  <tbody>\n",
       "    <tr>\n",
       "      <th>2</th>\n",
       "      <td>14</td>\n",
       "      <td>True</td>\n",
       "    </tr>\n",
       "    <tr>\n",
       "      <th>10</th>\n",
       "      <td>284</td>\n",
       "      <td>True</td>\n",
       "    </tr>\n",
       "    <tr>\n",
       "      <th>19</th>\n",
       "      <td>2</td>\n",
       "      <td>False</td>\n",
       "    </tr>\n",
       "    <tr>\n",
       "      <th>20</th>\n",
       "      <td>7</td>\n",
       "      <td>True</td>\n",
       "    </tr>\n",
       "    <tr>\n",
       "      <th>25</th>\n",
       "      <td>2</td>\n",
       "      <td>False</td>\n",
       "    </tr>\n",
       "    <tr>\n",
       "      <th>33</th>\n",
       "      <td>18</td>\n",
       "      <td>True</td>\n",
       "    </tr>\n",
       "    <tr>\n",
       "      <th>42</th>\n",
       "      <td>342</td>\n",
       "      <td>True</td>\n",
       "    </tr>\n",
       "    <tr>\n",
       "      <th>43</th>\n",
       "      <td>8</td>\n",
       "      <td>True</td>\n",
       "    </tr>\n",
       "    <tr>\n",
       "      <th>50</th>\n",
       "      <td>17</td>\n",
       "      <td>True</td>\n",
       "    </tr>\n",
       "    <tr>\n",
       "      <th>53</th>\n",
       "      <td>9</td>\n",
       "      <td>True</td>\n",
       "    </tr>\n",
       "    <tr>\n",
       "      <th>59</th>\n",
       "      <td>3</td>\n",
       "      <td>False</td>\n",
       "    </tr>\n",
       "    <tr>\n",
       "      <th>60</th>\n",
       "      <td>8</td>\n",
       "      <td>False</td>\n",
       "    </tr>\n",
       "    <tr>\n",
       "      <th>63</th>\n",
       "      <td>362</td>\n",
       "      <td>True</td>\n",
       "    </tr>\n",
       "    <tr>\n",
       "      <th>69</th>\n",
       "      <td>521</td>\n",
       "      <td>True</td>\n",
       "    </tr>\n",
       "    <tr>\n",
       "      <th>74</th>\n",
       "      <td>59</td>\n",
       "      <td>True</td>\n",
       "    </tr>\n",
       "    <tr>\n",
       "      <th>77</th>\n",
       "      <td>3</td>\n",
       "      <td>False</td>\n",
       "    </tr>\n",
       "    <tr>\n",
       "      <th>80</th>\n",
       "      <td>8</td>\n",
       "      <td>True</td>\n",
       "    </tr>\n",
       "    <tr>\n",
       "      <th>81</th>\n",
       "      <td>78</td>\n",
       "      <td>True</td>\n",
       "    </tr>\n",
       "    <tr>\n",
       "      <th>82</th>\n",
       "      <td>205</td>\n",
       "      <td>True</td>\n",
       "    </tr>\n",
       "    <tr>\n",
       "      <th>87</th>\n",
       "      <td>104</td>\n",
       "      <td>True</td>\n",
       "    </tr>\n",
       "  </tbody>\n",
       "</table>\n",
       "</div>"
      ],
      "text/plain": [
       "         date  adopted\n",
       "user_id               \n",
       "2          14     True\n",
       "10        284     True\n",
       "19          2    False\n",
       "20          7     True\n",
       "25          2    False\n",
       "33         18     True\n",
       "42        342     True\n",
       "43          8     True\n",
       "50         17     True\n",
       "53          9     True\n",
       "59          3    False\n",
       "60          8    False\n",
       "63        362     True\n",
       "69        521     True\n",
       "74         59     True\n",
       "77          3    False\n",
       "80          8     True\n",
       "81         78     True\n",
       "82        205     True\n",
       "87        104     True"
      ]
     },
     "execution_count": 11,
     "metadata": {},
     "output_type": "execute_result"
    }
   ],
   "source": [
    "pd.DataFrame(counts[counts>1]).join(adopted).head(20)"
   ]
  },
  {
   "cell_type": "code",
   "execution_count": 12,
   "metadata": {},
   "outputs": [
    {
     "data": {
      "text/html": [
       "<div>\n",
       "<style scoped>\n",
       "    .dataframe tbody tr th:only-of-type {\n",
       "        vertical-align: middle;\n",
       "    }\n",
       "\n",
       "    .dataframe tbody tr th {\n",
       "        vertical-align: top;\n",
       "    }\n",
       "\n",
       "    .dataframe thead th {\n",
       "        text-align: right;\n",
       "    }\n",
       "</style>\n",
       "<table border=\"1\" class=\"dataframe\">\n",
       "  <thead>\n",
       "    <tr style=\"text-align: right;\">\n",
       "      <th></th>\n",
       "      <th>time_stamp</th>\n",
       "      <th>user_id</th>\n",
       "      <th>visited</th>\n",
       "      <th>date</th>\n",
       "    </tr>\n",
       "  </thead>\n",
       "  <tbody>\n",
       "    <tr>\n",
       "      <th>740</th>\n",
       "      <td>2014-03-21 22:56:03</td>\n",
       "      <td>60</td>\n",
       "      <td>1</td>\n",
       "      <td>735313</td>\n",
       "    </tr>\n",
       "    <tr>\n",
       "      <th>741</th>\n",
       "      <td>2014-03-29 22:56:03</td>\n",
       "      <td>60</td>\n",
       "      <td>1</td>\n",
       "      <td>735321</td>\n",
       "    </tr>\n",
       "    <tr>\n",
       "      <th>742</th>\n",
       "      <td>2014-04-02 22:56:03</td>\n",
       "      <td>60</td>\n",
       "      <td>1</td>\n",
       "      <td>735325</td>\n",
       "    </tr>\n",
       "    <tr>\n",
       "      <th>743</th>\n",
       "      <td>2014-04-05 22:56:03</td>\n",
       "      <td>60</td>\n",
       "      <td>1</td>\n",
       "      <td>735328</td>\n",
       "    </tr>\n",
       "    <tr>\n",
       "      <th>744</th>\n",
       "      <td>2014-04-22 22:56:03</td>\n",
       "      <td>60</td>\n",
       "      <td>1</td>\n",
       "      <td>735345</td>\n",
       "    </tr>\n",
       "    <tr>\n",
       "      <th>745</th>\n",
       "      <td>2014-04-28 22:56:03</td>\n",
       "      <td>60</td>\n",
       "      <td>1</td>\n",
       "      <td>735351</td>\n",
       "    </tr>\n",
       "    <tr>\n",
       "      <th>746</th>\n",
       "      <td>2014-05-13 22:56:03</td>\n",
       "      <td>60</td>\n",
       "      <td>1</td>\n",
       "      <td>735366</td>\n",
       "    </tr>\n",
       "    <tr>\n",
       "      <th>747</th>\n",
       "      <td>2014-05-15 22:56:03</td>\n",
       "      <td>60</td>\n",
       "      <td>1</td>\n",
       "      <td>735368</td>\n",
       "    </tr>\n",
       "  </tbody>\n",
       "</table>\n",
       "</div>"
      ],
      "text/plain": [
       "             time_stamp  user_id  visited    date\n",
       "740 2014-03-21 22:56:03       60        1  735313\n",
       "741 2014-03-29 22:56:03       60        1  735321\n",
       "742 2014-04-02 22:56:03       60        1  735325\n",
       "743 2014-04-05 22:56:03       60        1  735328\n",
       "744 2014-04-22 22:56:03       60        1  735345\n",
       "745 2014-04-28 22:56:03       60        1  735351\n",
       "746 2014-05-13 22:56:03       60        1  735366\n",
       "747 2014-05-15 22:56:03       60        1  735368"
      ]
     },
     "execution_count": 12,
     "metadata": {},
     "output_type": "execute_result"
    }
   ],
   "source": [
    "# Check this case as a quick test\n",
    "summary[summary.user_id==60]"
   ]
  },
  {
   "cell_type": "code",
   "execution_count": null,
   "metadata": {},
   "outputs": [],
   "source": []
  },
  {
   "cell_type": "code",
   "execution_count": 13,
   "metadata": {},
   "outputs": [
    {
     "data": {
      "text/html": [
       "<div>\n",
       "<style scoped>\n",
       "    .dataframe tbody tr th:only-of-type {\n",
       "        vertical-align: middle;\n",
       "    }\n",
       "\n",
       "    .dataframe tbody tr th {\n",
       "        vertical-align: top;\n",
       "    }\n",
       "\n",
       "    .dataframe thead th {\n",
       "        text-align: right;\n",
       "    }\n",
       "</style>\n",
       "<table border=\"1\" class=\"dataframe\">\n",
       "  <thead>\n",
       "    <tr style=\"text-align: right;\">\n",
       "      <th></th>\n",
       "      <th>object_id</th>\n",
       "      <th>creation_time</th>\n",
       "      <th>name</th>\n",
       "      <th>email</th>\n",
       "      <th>creation_source</th>\n",
       "      <th>last_session_creation_time</th>\n",
       "      <th>opted_in_to_mailing_list</th>\n",
       "      <th>enabled_for_marketing_drip</th>\n",
       "      <th>org_id</th>\n",
       "      <th>invited_by_user_id</th>\n",
       "    </tr>\n",
       "  </thead>\n",
       "  <tbody>\n",
       "    <tr>\n",
       "      <th>0</th>\n",
       "      <td>1</td>\n",
       "      <td>2014-04-22 03:53:30</td>\n",
       "      <td>Clausen August</td>\n",
       "      <td>AugustCClausen@yahoo.com</td>\n",
       "      <td>GUEST_INVITE</td>\n",
       "      <td>1.398139e+09</td>\n",
       "      <td>1</td>\n",
       "      <td>0</td>\n",
       "      <td>11</td>\n",
       "      <td>10803.0</td>\n",
       "    </tr>\n",
       "    <tr>\n",
       "      <th>1</th>\n",
       "      <td>2</td>\n",
       "      <td>2013-11-15 03:45:04</td>\n",
       "      <td>Poole Matthew</td>\n",
       "      <td>MatthewPoole@gustr.com</td>\n",
       "      <td>ORG_INVITE</td>\n",
       "      <td>1.396238e+09</td>\n",
       "      <td>0</td>\n",
       "      <td>0</td>\n",
       "      <td>1</td>\n",
       "      <td>316.0</td>\n",
       "    </tr>\n",
       "    <tr>\n",
       "      <th>2</th>\n",
       "      <td>3</td>\n",
       "      <td>2013-03-19 23:14:52</td>\n",
       "      <td>Bottrill Mitchell</td>\n",
       "      <td>MitchellBottrill@gustr.com</td>\n",
       "      <td>ORG_INVITE</td>\n",
       "      <td>1.363735e+09</td>\n",
       "      <td>0</td>\n",
       "      <td>0</td>\n",
       "      <td>94</td>\n",
       "      <td>1525.0</td>\n",
       "    </tr>\n",
       "    <tr>\n",
       "      <th>3</th>\n",
       "      <td>4</td>\n",
       "      <td>2013-05-21 08:09:28</td>\n",
       "      <td>Clausen Nicklas</td>\n",
       "      <td>NicklasSClausen@yahoo.com</td>\n",
       "      <td>GUEST_INVITE</td>\n",
       "      <td>1.369210e+09</td>\n",
       "      <td>0</td>\n",
       "      <td>0</td>\n",
       "      <td>1</td>\n",
       "      <td>5151.0</td>\n",
       "    </tr>\n",
       "    <tr>\n",
       "      <th>4</th>\n",
       "      <td>5</td>\n",
       "      <td>2013-01-17 10:14:20</td>\n",
       "      <td>Raw Grace</td>\n",
       "      <td>GraceRaw@yahoo.com</td>\n",
       "      <td>GUEST_INVITE</td>\n",
       "      <td>1.358850e+09</td>\n",
       "      <td>0</td>\n",
       "      <td>0</td>\n",
       "      <td>193</td>\n",
       "      <td>5240.0</td>\n",
       "    </tr>\n",
       "  </tbody>\n",
       "</table>\n",
       "</div>"
      ],
      "text/plain": [
       "   object_id       creation_time               name  \\\n",
       "0          1 2014-04-22 03:53:30     Clausen August   \n",
       "1          2 2013-11-15 03:45:04      Poole Matthew   \n",
       "2          3 2013-03-19 23:14:52  Bottrill Mitchell   \n",
       "3          4 2013-05-21 08:09:28    Clausen Nicklas   \n",
       "4          5 2013-01-17 10:14:20          Raw Grace   \n",
       "\n",
       "                        email creation_source  last_session_creation_time  \\\n",
       "0    AugustCClausen@yahoo.com    GUEST_INVITE                1.398139e+09   \n",
       "1      MatthewPoole@gustr.com      ORG_INVITE                1.396238e+09   \n",
       "2  MitchellBottrill@gustr.com      ORG_INVITE                1.363735e+09   \n",
       "3   NicklasSClausen@yahoo.com    GUEST_INVITE                1.369210e+09   \n",
       "4          GraceRaw@yahoo.com    GUEST_INVITE                1.358850e+09   \n",
       "\n",
       "   opted_in_to_mailing_list  enabled_for_marketing_drip  org_id  \\\n",
       "0                         1                           0      11   \n",
       "1                         0                           0       1   \n",
       "2                         0                           0      94   \n",
       "3                         0                           0       1   \n",
       "4                         0                           0     193   \n",
       "\n",
       "   invited_by_user_id  \n",
       "0             10803.0  \n",
       "1               316.0  \n",
       "2              1525.0  \n",
       "3              5151.0  \n",
       "4              5240.0  "
      ]
     },
     "execution_count": 13,
     "metadata": {},
     "output_type": "execute_result"
    }
   ],
   "source": [
    "users = pd.read_csv('takehome_users.csv', encoding='latin', parse_dates=['creation_time'])\n",
    "users.head()"
   ]
  },
  {
   "cell_type": "code",
   "execution_count": 14,
   "metadata": {},
   "outputs": [
    {
     "data": {
      "text/html": [
       "<div>\n",
       "<style scoped>\n",
       "    .dataframe tbody tr th:only-of-type {\n",
       "        vertical-align: middle;\n",
       "    }\n",
       "\n",
       "    .dataframe tbody tr th {\n",
       "        vertical-align: top;\n",
       "    }\n",
       "\n",
       "    .dataframe thead th {\n",
       "        text-align: right;\n",
       "    }\n",
       "</style>\n",
       "<table border=\"1\" class=\"dataframe\">\n",
       "  <thead>\n",
       "    <tr style=\"text-align: right;\">\n",
       "      <th></th>\n",
       "      <th>creation_time</th>\n",
       "      <th>name</th>\n",
       "      <th>email</th>\n",
       "      <th>creation_source</th>\n",
       "      <th>last_session_creation_time</th>\n",
       "      <th>opted_in_to_mailing_list</th>\n",
       "      <th>enabled_for_marketing_drip</th>\n",
       "      <th>org_id</th>\n",
       "      <th>invited_by_user_id</th>\n",
       "      <th>adopted</th>\n",
       "    </tr>\n",
       "    <tr>\n",
       "      <th>user_id</th>\n",
       "      <th></th>\n",
       "      <th></th>\n",
       "      <th></th>\n",
       "      <th></th>\n",
       "      <th></th>\n",
       "      <th></th>\n",
       "      <th></th>\n",
       "      <th></th>\n",
       "      <th></th>\n",
       "      <th></th>\n",
       "    </tr>\n",
       "  </thead>\n",
       "  <tbody>\n",
       "    <tr>\n",
       "      <th>1</th>\n",
       "      <td>2014-04-22 03:53:30</td>\n",
       "      <td>Clausen August</td>\n",
       "      <td>AugustCClausen@yahoo.com</td>\n",
       "      <td>GUEST_INVITE</td>\n",
       "      <td>1.398139e+09</td>\n",
       "      <td>1</td>\n",
       "      <td>0</td>\n",
       "      <td>11</td>\n",
       "      <td>10803.0</td>\n",
       "      <td>False</td>\n",
       "    </tr>\n",
       "    <tr>\n",
       "      <th>2</th>\n",
       "      <td>2013-11-15 03:45:04</td>\n",
       "      <td>Poole Matthew</td>\n",
       "      <td>MatthewPoole@gustr.com</td>\n",
       "      <td>ORG_INVITE</td>\n",
       "      <td>1.396238e+09</td>\n",
       "      <td>0</td>\n",
       "      <td>0</td>\n",
       "      <td>1</td>\n",
       "      <td>316.0</td>\n",
       "      <td>True</td>\n",
       "    </tr>\n",
       "    <tr>\n",
       "      <th>3</th>\n",
       "      <td>2013-03-19 23:14:52</td>\n",
       "      <td>Bottrill Mitchell</td>\n",
       "      <td>MitchellBottrill@gustr.com</td>\n",
       "      <td>ORG_INVITE</td>\n",
       "      <td>1.363735e+09</td>\n",
       "      <td>0</td>\n",
       "      <td>0</td>\n",
       "      <td>94</td>\n",
       "      <td>1525.0</td>\n",
       "      <td>False</td>\n",
       "    </tr>\n",
       "    <tr>\n",
       "      <th>4</th>\n",
       "      <td>2013-05-21 08:09:28</td>\n",
       "      <td>Clausen Nicklas</td>\n",
       "      <td>NicklasSClausen@yahoo.com</td>\n",
       "      <td>GUEST_INVITE</td>\n",
       "      <td>1.369210e+09</td>\n",
       "      <td>0</td>\n",
       "      <td>0</td>\n",
       "      <td>1</td>\n",
       "      <td>5151.0</td>\n",
       "      <td>False</td>\n",
       "    </tr>\n",
       "    <tr>\n",
       "      <th>5</th>\n",
       "      <td>2013-01-17 10:14:20</td>\n",
       "      <td>Raw Grace</td>\n",
       "      <td>GraceRaw@yahoo.com</td>\n",
       "      <td>GUEST_INVITE</td>\n",
       "      <td>1.358850e+09</td>\n",
       "      <td>0</td>\n",
       "      <td>0</td>\n",
       "      <td>193</td>\n",
       "      <td>5240.0</td>\n",
       "      <td>False</td>\n",
       "    </tr>\n",
       "  </tbody>\n",
       "</table>\n",
       "</div>"
      ],
      "text/plain": [
       "              creation_time               name                       email  \\\n",
       "user_id                                                                      \n",
       "1       2014-04-22 03:53:30     Clausen August    AugustCClausen@yahoo.com   \n",
       "2       2013-11-15 03:45:04      Poole Matthew      MatthewPoole@gustr.com   \n",
       "3       2013-03-19 23:14:52  Bottrill Mitchell  MitchellBottrill@gustr.com   \n",
       "4       2013-05-21 08:09:28    Clausen Nicklas   NicklasSClausen@yahoo.com   \n",
       "5       2013-01-17 10:14:20          Raw Grace          GraceRaw@yahoo.com   \n",
       "\n",
       "        creation_source  last_session_creation_time  opted_in_to_mailing_list  \\\n",
       "user_id                                                                         \n",
       "1          GUEST_INVITE                1.398139e+09                         1   \n",
       "2            ORG_INVITE                1.396238e+09                         0   \n",
       "3            ORG_INVITE                1.363735e+09                         0   \n",
       "4          GUEST_INVITE                1.369210e+09                         0   \n",
       "5          GUEST_INVITE                1.358850e+09                         0   \n",
       "\n",
       "         enabled_for_marketing_drip  org_id  invited_by_user_id adopted  \n",
       "user_id                                                                  \n",
       "1                                 0      11             10803.0   False  \n",
       "2                                 0       1               316.0    True  \n",
       "3                                 0      94              1525.0   False  \n",
       "4                                 0       1              5151.0   False  \n",
       "5                                 0     193              5240.0   False  "
      ]
     },
     "execution_count": 14,
     "metadata": {},
     "output_type": "execute_result"
    }
   ],
   "source": [
    "df = users.rename({'object_id':'user_id'},axis=1).set_index('user_id').join(adopted)\n",
    "df.head()"
   ]
  },
  {
   "cell_type": "code",
   "execution_count": 15,
   "metadata": {},
   "outputs": [
    {
     "data": {
      "text/plain": [
       "creation_time                 datetime64[ns]\n",
       "name                                  object\n",
       "email                                 object\n",
       "creation_source                       object\n",
       "last_session_creation_time           float64\n",
       "opted_in_to_mailing_list               int64\n",
       "enabled_for_marketing_drip             int64\n",
       "org_id                                 int64\n",
       "invited_by_user_id                   float64\n",
       "adopted                               object\n",
       "dtype: object"
      ]
     },
     "execution_count": 15,
     "metadata": {},
     "output_type": "execute_result"
    }
   ],
   "source": [
    "df.dtypes"
   ]
  },
  {
   "cell_type": "code",
   "execution_count": 16,
   "metadata": {},
   "outputs": [
    {
     "data": {
      "text/plain": [
       "creation_time                    0\n",
       "name                             0\n",
       "email                            0\n",
       "creation_source                  0\n",
       "last_session_creation_time    3177\n",
       "opted_in_to_mailing_list         0\n",
       "enabled_for_marketing_drip       0\n",
       "org_id                           0\n",
       "invited_by_user_id            5583\n",
       "adopted                       3177\n",
       "dtype: int64"
      ]
     },
     "execution_count": 16,
     "metadata": {},
     "output_type": "execute_result"
    }
   ],
   "source": [
    "df.isnull().sum()"
   ]
  },
  {
   "cell_type": "code",
   "execution_count": 17,
   "metadata": {},
   "outputs": [
    {
     "data": {
      "text/plain": [
       "creation_time                 11996\n",
       "name                          11355\n",
       "email                         11980\n",
       "creation_source                   5\n",
       "last_session_creation_time     8821\n",
       "opted_in_to_mailing_list          2\n",
       "enabled_for_marketing_drip        2\n",
       "org_id                          417\n",
       "invited_by_user_id             2564\n",
       "adopted                           2\n",
       "dtype: int64"
      ]
     },
     "execution_count": 17,
     "metadata": {},
     "output_type": "execute_result"
    }
   ],
   "source": [
    "df.nunique()"
   ]
  },
  {
   "cell_type": "code",
   "execution_count": 18,
   "metadata": {},
   "outputs": [
    {
     "data": {
      "text/html": [
       "<div>\n",
       "<style scoped>\n",
       "    .dataframe tbody tr th:only-of-type {\n",
       "        vertical-align: middle;\n",
       "    }\n",
       "\n",
       "    .dataframe tbody tr th {\n",
       "        vertical-align: top;\n",
       "    }\n",
       "\n",
       "    .dataframe thead th {\n",
       "        text-align: right;\n",
       "    }\n",
       "</style>\n",
       "<table border=\"1\" class=\"dataframe\">\n",
       "  <thead>\n",
       "    <tr style=\"text-align: right;\">\n",
       "      <th></th>\n",
       "      <th>user_id</th>\n",
       "      <th>creation_time</th>\n",
       "      <th>name</th>\n",
       "      <th>email</th>\n",
       "      <th>creation_source</th>\n",
       "      <th>last_session_creation_time</th>\n",
       "      <th>opted_in_to_mailing_list</th>\n",
       "      <th>enabled_for_marketing_drip</th>\n",
       "      <th>org_id</th>\n",
       "      <th>invited_by_user_id</th>\n",
       "      <th>...</th>\n",
       "      <th>creation_time_invited</th>\n",
       "      <th>name_invited</th>\n",
       "      <th>email_invited</th>\n",
       "      <th>creation_source_invited</th>\n",
       "      <th>last_session_creation_time_invited</th>\n",
       "      <th>opted_in_to_mailing_list_invited</th>\n",
       "      <th>enabled_for_marketing_drip_invited</th>\n",
       "      <th>org_id_invited</th>\n",
       "      <th>invited_by_user_id_invited</th>\n",
       "      <th>adopted_invited</th>\n",
       "    </tr>\n",
       "  </thead>\n",
       "  <tbody>\n",
       "    <tr>\n",
       "      <th>0</th>\n",
       "      <td>1</td>\n",
       "      <td>2014-04-22 03:53:30</td>\n",
       "      <td>Clausen August</td>\n",
       "      <td>AugustCClausen@yahoo.com</td>\n",
       "      <td>GUEST_INVITE</td>\n",
       "      <td>1.398139e+09</td>\n",
       "      <td>1</td>\n",
       "      <td>0</td>\n",
       "      <td>11</td>\n",
       "      <td>10803.0</td>\n",
       "      <td>...</td>\n",
       "      <td>2012-08-09 06:32:29</td>\n",
       "      <td>Sousa Nicolash</td>\n",
       "      <td>lxjxpezn@pmojd.com</td>\n",
       "      <td>SIGNUP</td>\n",
       "      <td>1.344494e+09</td>\n",
       "      <td>0</td>\n",
       "      <td>0</td>\n",
       "      <td>11</td>\n",
       "      <td>NaN</td>\n",
       "      <td>False</td>\n",
       "    </tr>\n",
       "    <tr>\n",
       "      <th>1</th>\n",
       "      <td>2</td>\n",
       "      <td>2013-11-15 03:45:04</td>\n",
       "      <td>Poole Matthew</td>\n",
       "      <td>MatthewPoole@gustr.com</td>\n",
       "      <td>ORG_INVITE</td>\n",
       "      <td>1.396238e+09</td>\n",
       "      <td>0</td>\n",
       "      <td>0</td>\n",
       "      <td>1</td>\n",
       "      <td>316.0</td>\n",
       "      <td>...</td>\n",
       "      <td>2012-08-30 02:58:36</td>\n",
       "      <td>Moran Morgan</td>\n",
       "      <td>MorganMoran@yahoo.com</td>\n",
       "      <td>ORG_INVITE</td>\n",
       "      <td>1.346296e+09</td>\n",
       "      <td>1</td>\n",
       "      <td>0</td>\n",
       "      <td>1</td>\n",
       "      <td>9001.0</td>\n",
       "      <td>False</td>\n",
       "    </tr>\n",
       "    <tr>\n",
       "      <th>2</th>\n",
       "      <td>3817</td>\n",
       "      <td>2013-01-30 12:03:08</td>\n",
       "      <td>Vanzetti Lucas</td>\n",
       "      <td>LucasVanzetti@gustr.com</td>\n",
       "      <td>GUEST_INVITE</td>\n",
       "      <td>NaN</td>\n",
       "      <td>0</td>\n",
       "      <td>0</td>\n",
       "      <td>1</td>\n",
       "      <td>316.0</td>\n",
       "      <td>...</td>\n",
       "      <td>2012-08-30 02:58:36</td>\n",
       "      <td>Moran Morgan</td>\n",
       "      <td>MorganMoran@yahoo.com</td>\n",
       "      <td>ORG_INVITE</td>\n",
       "      <td>1.346296e+09</td>\n",
       "      <td>1</td>\n",
       "      <td>0</td>\n",
       "      <td>1</td>\n",
       "      <td>9001.0</td>\n",
       "      <td>False</td>\n",
       "    </tr>\n",
       "    <tr>\n",
       "      <th>3</th>\n",
       "      <td>5085</td>\n",
       "      <td>2013-03-31 17:12:27</td>\n",
       "      <td>Herzog Michelle</td>\n",
       "      <td>MichelleHerzog@yahoo.com</td>\n",
       "      <td>ORG_INVITE</td>\n",
       "      <td>1.365009e+09</td>\n",
       "      <td>0</td>\n",
       "      <td>0</td>\n",
       "      <td>1</td>\n",
       "      <td>316.0</td>\n",
       "      <td>...</td>\n",
       "      <td>2012-08-30 02:58:36</td>\n",
       "      <td>Moran Morgan</td>\n",
       "      <td>MorganMoran@yahoo.com</td>\n",
       "      <td>ORG_INVITE</td>\n",
       "      <td>1.346296e+09</td>\n",
       "      <td>1</td>\n",
       "      <td>0</td>\n",
       "      <td>1</td>\n",
       "      <td>9001.0</td>\n",
       "      <td>False</td>\n",
       "    </tr>\n",
       "    <tr>\n",
       "      <th>4</th>\n",
       "      <td>3</td>\n",
       "      <td>2013-03-19 23:14:52</td>\n",
       "      <td>Bottrill Mitchell</td>\n",
       "      <td>MitchellBottrill@gustr.com</td>\n",
       "      <td>ORG_INVITE</td>\n",
       "      <td>1.363735e+09</td>\n",
       "      <td>0</td>\n",
       "      <td>0</td>\n",
       "      <td>94</td>\n",
       "      <td>1525.0</td>\n",
       "      <td>...</td>\n",
       "      <td>2012-06-09 23:10:18</td>\n",
       "      <td>Kay Alice</td>\n",
       "      <td>AliceRKay@yahoo.com</td>\n",
       "      <td>GUEST_INVITE</td>\n",
       "      <td>1.357946e+09</td>\n",
       "      <td>1</td>\n",
       "      <td>1</td>\n",
       "      <td>94</td>\n",
       "      <td>9224.0</td>\n",
       "      <td>True</td>\n",
       "    </tr>\n",
       "  </tbody>\n",
       "</table>\n",
       "<p>5 rows × 21 columns</p>\n",
       "</div>"
      ],
      "text/plain": [
       "   user_id       creation_time               name                       email  \\\n",
       "0        1 2014-04-22 03:53:30     Clausen August    AugustCClausen@yahoo.com   \n",
       "1        2 2013-11-15 03:45:04      Poole Matthew      MatthewPoole@gustr.com   \n",
       "2     3817 2013-01-30 12:03:08     Vanzetti Lucas     LucasVanzetti@gustr.com   \n",
       "3     5085 2013-03-31 17:12:27    Herzog Michelle    MichelleHerzog@yahoo.com   \n",
       "4        3 2013-03-19 23:14:52  Bottrill Mitchell  MitchellBottrill@gustr.com   \n",
       "\n",
       "  creation_source  last_session_creation_time  opted_in_to_mailing_list  \\\n",
       "0    GUEST_INVITE                1.398139e+09                         1   \n",
       "1      ORG_INVITE                1.396238e+09                         0   \n",
       "2    GUEST_INVITE                         NaN                         0   \n",
       "3      ORG_INVITE                1.365009e+09                         0   \n",
       "4      ORG_INVITE                1.363735e+09                         0   \n",
       "\n",
       "   enabled_for_marketing_drip  org_id  invited_by_user_id  ...  \\\n",
       "0                           0      11             10803.0  ...   \n",
       "1                           0       1               316.0  ...   \n",
       "2                           0       1               316.0  ...   \n",
       "3                           0       1               316.0  ...   \n",
       "4                           0      94              1525.0  ...   \n",
       "\n",
       "  creation_time_invited    name_invited          email_invited  \\\n",
       "0   2012-08-09 06:32:29  Sousa Nicolash     lxjxpezn@pmojd.com   \n",
       "1   2012-08-30 02:58:36    Moran Morgan  MorganMoran@yahoo.com   \n",
       "2   2012-08-30 02:58:36    Moran Morgan  MorganMoran@yahoo.com   \n",
       "3   2012-08-30 02:58:36    Moran Morgan  MorganMoran@yahoo.com   \n",
       "4   2012-06-09 23:10:18       Kay Alice    AliceRKay@yahoo.com   \n",
       "\n",
       "  creation_source_invited last_session_creation_time_invited  \\\n",
       "0                  SIGNUP                       1.344494e+09   \n",
       "1              ORG_INVITE                       1.346296e+09   \n",
       "2              ORG_INVITE                       1.346296e+09   \n",
       "3              ORG_INVITE                       1.346296e+09   \n",
       "4            GUEST_INVITE                       1.357946e+09   \n",
       "\n",
       "   opted_in_to_mailing_list_invited  enabled_for_marketing_drip_invited  \\\n",
       "0                                 0                                   0   \n",
       "1                                 1                                   0   \n",
       "2                                 1                                   0   \n",
       "3                                 1                                   0   \n",
       "4                                 1                                   1   \n",
       "\n",
       "   org_id_invited  invited_by_user_id_invited  adopted_invited  \n",
       "0              11                         NaN            False  \n",
       "1               1                      9001.0            False  \n",
       "2               1                      9001.0            False  \n",
       "3               1                      9001.0            False  \n",
       "4              94                      9224.0             True  \n",
       "\n",
       "[5 rows x 21 columns]"
      ]
     },
     "execution_count": 18,
     "metadata": {},
     "output_type": "execute_result"
    }
   ],
   "source": [
    "df_merged = df.reset_index().merge(df, left_on='invited_by_user_id', right_on='user_id', suffixes=['', '_invited'])\n",
    "df_merged.head()"
   ]
  },
  {
   "cell_type": "code",
   "execution_count": null,
   "metadata": {},
   "outputs": [],
   "source": []
  },
  {
   "cell_type": "code",
   "execution_count": null,
   "metadata": {},
   "outputs": [],
   "source": []
  },
  {
   "cell_type": "code",
   "execution_count": null,
   "metadata": {},
   "outputs": [],
   "source": []
  },
  {
   "cell_type": "code",
   "execution_count": 17,
   "metadata": {},
   "outputs": [
    {
     "data": {
      "text/plain": [
       "0"
      ]
     },
     "execution_count": 17,
     "metadata": {},
     "output_type": "execute_result"
    }
   ],
   "source": [
    "adopted.isnull().sum()"
   ]
  },
  {
   "cell_type": "code",
   "execution_count": 18,
   "metadata": {},
   "outputs": [
    {
     "data": {
      "text/plain": [
       "(8823, 2)"
      ]
     },
     "execution_count": 18,
     "metadata": {},
     "output_type": "execute_result"
    }
   ],
   "source": [
    "pd.read_csv('takehome_user_engagement.csv').groupby('user_id').count().shape"
   ]
  },
  {
   "cell_type": "code",
   "execution_count": 19,
   "metadata": {},
   "outputs": [
    {
     "data": {
      "text/plain": [
       "(12000, 10)"
      ]
     },
     "execution_count": 19,
     "metadata": {},
     "output_type": "execute_result"
    }
   ],
   "source": [
    "users.shape"
   ]
  },
  {
   "cell_type": "code",
   "execution_count": 75,
   "metadata": {},
   "outputs": [],
   "source": [
    "X = df_merged[~df_merged.adopted.isnull()].drop(['name', 'email','adopted', 'last_session_creation_time', \n",
    "                                                 'creation_time', 'name_invited', 'email_invited', 'invited_by_user_id',\n",
    "                                                 'last_session_creation_time_invited', 'creation_time_invited',\n",
    "                                                 'adopted_invited', 'user_id'], axis=1)\n",
    "y = 1*df_merged[~df_merged.adopted.isnull()].adopted"
   ]
  },
  {
   "cell_type": "code",
   "execution_count": 76,
   "metadata": {},
   "outputs": [],
   "source": [
    "X_train, X_test, y_train, y_test = train_test_split(X, y, test_size=0.2, random_state=42)"
   ]
  },
  {
   "cell_type": "code",
   "execution_count": 77,
   "metadata": {},
   "outputs": [
    {
     "name": "stderr",
     "output_type": "stream",
     "text": [
      "/home/andy/anaconda3/lib/python3.7/site-packages/pandas/core/indexing.py:543: SettingWithCopyWarning: \n",
      "A value is trying to be set on a copy of a slice from a DataFrame.\n",
      "Try using .loc[row_indexer,col_indexer] = value instead\n",
      "\n",
      "See the caveats in the documentation: http://pandas.pydata.org/pandas-docs/stable/indexing.html#indexing-view-versus-copy\n",
      "  self.obj[item] = s\n"
     ]
    }
   ],
   "source": [
    "le = LabelEncoder()\n",
    "X_train.loc[:,'creation_source'] = le.fit_transform(X_train.creation_source)\n",
    "X_test.loc[:,'creation_source'] = le.transform(X_test.creation_source)\n",
    "X_train.loc[:,'creation_source_invited'] = le.fit_transform(X_train.creation_source_invited)\n",
    "X_test.loc[:,'creation_source_invited'] = le.transform(X_test.creation_source_invited)"
   ]
  },
  {
   "cell_type": "code",
   "execution_count": 78,
   "metadata": {},
   "outputs": [
    {
     "data": {
      "text/plain": [
       "(creation_source                         int64\n",
       " opted_in_to_mailing_list                int64\n",
       " enabled_for_marketing_drip              int64\n",
       " org_id                                  int64\n",
       " creation_source_invited                 int64\n",
       " opted_in_to_mailing_list_invited        int64\n",
       " enabled_for_marketing_drip_invited      int64\n",
       " org_id_invited                          int64\n",
       " invited_by_user_id_invited            float64\n",
       " dtype: object, creation_source                         int64\n",
       " opted_in_to_mailing_list                int64\n",
       " enabled_for_marketing_drip              int64\n",
       " org_id                                  int64\n",
       " creation_source_invited                 int64\n",
       " opted_in_to_mailing_list_invited        int64\n",
       " enabled_for_marketing_drip_invited      int64\n",
       " org_id_invited                          int64\n",
       " invited_by_user_id_invited            float64\n",
       " dtype: object, dtype('O'), dtype('O'))"
      ]
     },
     "execution_count": 78,
     "metadata": {},
     "output_type": "execute_result"
    }
   ],
   "source": [
    "X_train.dtypes, X_test.dtypes, y_train.dtype, y_test.dtype"
   ]
  },
  {
   "cell_type": "code",
   "execution_count": 79,
   "metadata": {},
   "outputs": [],
   "source": [
    "d_train = lgb.Dataset(X_train, label=y_train)"
   ]
  },
  {
   "cell_type": "code",
   "execution_count": 102,
   "metadata": {},
   "outputs": [],
   "source": [
    "params = {}\n",
    "params['learning_rate'] = 0.04 # shrinkage_rate\n",
    "params['sub_feature'] = .8    # feature_fraction (small values => use very different submodels)\n",
    "params['min_data'] = 80         # min_data_in_leaf\n",
    "params['max_depth'] = 2\n",
    "\n",
    "nboost=35"
   ]
  },
  {
   "cell_type": "code",
   "execution_count": 103,
   "metadata": {},
   "outputs": [
    {
     "name": "stdout",
     "output_type": "stream",
     "text": [
      "[5]\tcv_agg's auc: 0.586054 + 0.0100495\n",
      "[10]\tcv_agg's auc: 0.586086 + 0.0086909\n",
      "[15]\tcv_agg's auc: 0.586462 + 0.0108773\n",
      "[20]\tcv_agg's auc: 0.586206 + 0.0119828\n",
      "[25]\tcv_agg's auc: 0.586089 + 0.0119512\n",
      "[30]\tcv_agg's auc: 0.587523 + 0.0115544\n",
      "[35]\tcv_agg's auc: 0.58933 + 0.0105229\n",
      "[40]\tcv_agg's auc: 0.588884 + 0.0101127\n",
      "[45]\tcv_agg's auc: 0.588354 + 0.00934097\n",
      "[50]\tcv_agg's auc: 0.587902 + 0.0087787\n"
     ]
    }
   ],
   "source": [
    "cv = lgb.cv(params, d_train, verbose_eval=5, metrics=['auc'], num_boost_round=50, stratified=False)"
   ]
  },
  {
   "cell_type": "code",
   "execution_count": 104,
   "metadata": {},
   "outputs": [],
   "source": [
    "# 5893"
   ]
  },
  {
   "cell_type": "code",
   "execution_count": 105,
   "metadata": {},
   "outputs": [],
   "source": [
    "clf = lgb.train(params, d_train, nboost)\n",
    "pred = clf.predict(X_test).clip(0,1)"
   ]
  },
  {
   "cell_type": "code",
   "execution_count": 106,
   "metadata": {},
   "outputs": [
    {
     "data": {
      "text/plain": [
       "(0, 1, 0.09912106165281132, 0.2587947720457695)"
      ]
     },
     "execution_count": 106,
     "metadata": {},
     "output_type": "execute_result"
    }
   ],
   "source": [
    "y_test.min(), y_test.max(), pred.min(), pred.max()"
   ]
  },
  {
   "cell_type": "code",
   "execution_count": 107,
   "metadata": {},
   "outputs": [
    {
     "data": {
      "text/plain": [
       "2"
      ]
     },
     "execution_count": 107,
     "metadata": {},
     "output_type": "execute_result"
    }
   ],
   "source": [
    "y_test.nunique()"
   ]
  },
  {
   "cell_type": "code",
   "execution_count": 108,
   "metadata": {},
   "outputs": [
    {
     "data": {
      "text/plain": [
       "(adopted    0\n",
       " dtype: int64, 0    0\n",
       " dtype: int64)"
      ]
     },
     "execution_count": 108,
     "metadata": {},
     "output_type": "execute_result"
    }
   ],
   "source": [
    "pd.DataFrame(y_test).isnull().sum(), pd.DataFrame(pred).isnull().sum()"
   ]
  },
  {
   "cell_type": "code",
   "execution_count": 109,
   "metadata": {},
   "outputs": [
    {
     "data": {
      "text/plain": [
       "array([0.16224603, 0.18619704, 0.19096301, 0.20355828, 0.20083136,\n",
       "       0.20083136, 0.19271422, 0.23973977, 0.16261298, 0.23728113,\n",
       "       0.19271422, 0.23227424, 0.23876406, 0.22750828, 0.18619704,\n",
       "       0.19271422, 0.19271422, 0.16261298, 0.09912106, 0.19837271,\n",
       "       0.23227424, 0.19271422, 0.19837271, 0.19271422, 0.09912106,\n",
       "       0.19096301, 0.22750828, 0.18619704, 0.18619704, 0.16189687,\n",
       "       0.19620346, 0.24878835, 0.19620346, 0.20355828, 0.12452961,\n",
       "       0.19271422, 0.19271422, 0.16467327, 0.19271422, 0.23227424,\n",
       "       0.19837271, 0.19271422, 0.21085565, 0.18619704, 0.17482277,\n",
       "       0.19271422, 0.15347943, 0.16467327, 0.19620346, 0.10063988,\n",
       "       0.18619704, 0.20109963, 0.17976613, 0.15604731, 0.22750828,\n",
       "       0.23876406, 0.18619704, 0.21358257, 0.17750958, 0.12425101,\n",
       "       0.23227424, 0.12279388, 0.19271422, 0.18619704, 0.18619704,\n",
       "       0.15604731, 0.19271422, 0.16467327, 0.19271422, 0.21083777,\n",
       "       0.17113993, 0.19271422, 0.14950169, 0.16043045, 0.19271422,\n",
       "       0.17113993, 0.22750828, 0.16711216, 0.18619704, 0.21085565,\n",
       "       0.18619704, 0.24878835, 0.23227424, 0.17976613, 0.15347943,\n",
       "       0.12650705, 0.16270462, 0.169564  , 0.23227424, 0.18865955,\n",
       "       0.18619704, 0.11757859, 0.10063988, 0.19271422, 0.14950169,\n",
       "       0.1557536 , 0.23227424, 0.23227424, 0.23129853, 0.18619704,\n",
       "       0.1488424 , 0.19271422, 0.15347943, 0.17870558, 0.19271422,\n",
       "       0.19271422, 0.19271422, 0.15604731, 0.22750828, 0.23630541,\n",
       "       0.18619704, 0.23227424, 0.23129853, 0.19271422, 0.23227424,\n",
       "       0.18619704, 0.18619704, 0.15832147, 0.12207096, 0.19271422,\n",
       "       0.19271422, 0.18865955, 0.19271422, 0.14950169, 0.19271422,\n",
       "       0.16173026, 0.22750828, 0.19620346, 0.22750828, 0.1742485 ,\n",
       "       0.22750828, 0.21083777, 0.19620346, 0.18998729, 0.22750828,\n",
       "       0.20083136, 0.20109963, 0.19271422, 0.12652518, 0.24976407,\n",
       "       0.18619704, 0.21358257, 0.15177586, 0.18619704, 0.24632971,\n",
       "       0.16261298, 0.18619704, 0.23129853, 0.20083136, 0.20083136,\n",
       "       0.24976407, 0.19271422, 0.15347943, 0.24976407, 0.21940606,\n",
       "       0.18998729, 0.15347943, 0.22750828, 0.23751469, 0.19837271,\n",
       "       0.12425101, 0.17976613, 0.17041814, 0.18998729, 0.20355828,\n",
       "       0.23630541, 0.18619704, 0.21358257, 0.22750828, 0.1664404 ,\n",
       "       0.23728113, 0.23227424, 0.24976407, 0.15347943, 0.19271422,\n",
       "       0.14950169, 0.16261298, 0.19271422, 0.23227424, 0.12137365,\n",
       "       0.12425101, 0.16488715, 0.21358257, 0.16467327, 0.16261298,\n",
       "       0.10289592, 0.18619704, 0.16470467, 0.20083136, 0.18619704,\n",
       "       0.19620346, 0.22750828, 0.19271422, 0.23630541, 0.22750828,\n",
       "       0.18473702, 0.14495816, 0.16470467, 0.20837913, 0.23227424,\n",
       "       0.23973977, 0.19271422, 0.23129853, 0.22750828, 0.23227424,\n",
       "       0.14950169, 0.17976613, 0.23728113, 0.16694743, 0.12279388,\n",
       "       0.25879477, 0.18619704, 0.23728113, 0.17165569, 0.15347943,\n",
       "       0.12273219, 0.19271422, 0.24878835, 0.16261298, 0.23227424,\n",
       "       0.19271422, 0.21085565, 0.10289592, 0.16527249, 0.15604731,\n",
       "       0.19271422, 0.14950169, 0.22750828, 0.15418335, 0.18619704,\n",
       "       0.19620346, 0.17113993, 0.17175456, 0.23227424, 0.10063988,\n",
       "       0.12498823, 0.15604731, 0.10063988, 0.19271422, 0.23751469,\n",
       "       0.20083136, 0.18619704, 0.19620346, 0.23973977, 0.19620346,\n",
       "       0.19271422, 0.19271422, 0.23227424, 0.20355828, 0.23999414,\n",
       "       0.24730542, 0.23227424, 0.18619704, 0.14950169, 0.19620346,\n",
       "       0.23227424, 0.18427279, 0.22750828, 0.19620346, 0.19620346,\n",
       "       0.20083136, 0.24877048, 0.16418891, 0.16261298, 0.18619704,\n",
       "       0.15347943, 0.15832147, 0.19271422, 0.15604731, 0.18619704,\n",
       "       0.22750828, 0.19271422, 0.10289592, 0.15604731, 0.19271422,\n",
       "       0.23751469, 0.23227424, 0.18619704, 0.21358257, 0.19271422,\n",
       "       0.18619704, 0.18204029, 0.22750828, 0.22750828, 0.19271422,\n",
       "       0.10063988, 0.23973977, 0.24878835, 0.17041814, 0.18619704,\n",
       "       0.18619704, 0.18619704, 0.19271422, 0.19271422, 0.22750828,\n",
       "       0.12425101, 0.20355828, 0.19271422, 0.15347943, 0.23227424,\n",
       "       0.19271422, 0.19837271, 0.15604731, 0.21940606, 0.12425101,\n",
       "       0.18619704, 0.18619704, 0.22750828, 0.14950169, 0.23227424,\n",
       "       0.19271422, 0.18619704, 0.23227424, 0.19271422, 0.23227424,\n",
       "       0.14495816, 0.19837271, 0.14495816, 0.19271422, 0.23227424,\n",
       "       0.18619704, 0.23129853, 0.19096301, 0.23876406, 0.12452961,\n",
       "       0.18998729, 0.18619704, 0.16224603, 0.14950169, 0.23227424,\n",
       "       0.1742485 , 0.22750828, 0.17976613, 0.19271422, 0.19391694,\n",
       "       0.22750828, 0.18619704, 0.20083136, 0.19271422, 0.16488715,\n",
       "       0.22750828, 0.17023546, 0.17689495, 0.12878122, 0.19271422,\n",
       "       0.18619704, 0.18619704, 0.20083136, 0.23227424, 0.23751469,\n",
       "       0.21358257, 0.24730542, 0.21358257, 0.19271422, 0.14343934,\n",
       "       0.23227424, 0.18619704, 0.24877048, 0.21085565, 0.14950169,\n",
       "       0.1742485 , 0.18619704, 0.18619704, 0.19271422, 0.16418891,\n",
       "       0.19271422, 0.15347943, 0.18619704, 0.20083136, 0.23227424,\n",
       "       0.19271422, 0.18619704, 0.23227424, 0.16173026, 0.22750828,\n",
       "       0.23227424, 0.14495816, 0.18619704, 0.20355828, 0.18619704,\n",
       "       0.17996822, 0.22750828, 0.24523459, 0.18619704, 0.1557536 ,\n",
       "       0.23876406, 0.18246285, 0.20083136, 0.23227424, 0.18619704,\n",
       "       0.20355828, 0.19271422, 0.18619704, 0.15872688, 0.23227424,\n",
       "       0.25633613, 0.14343934, 0.19271422, 0.19271422, 0.16470467,\n",
       "       0.15347943, 0.19620346, 0.19620346, 0.22750828, 0.24878835,\n",
       "       0.18619704, 0.1557536 , 0.20083136, 0.14950169, 0.23227424,\n",
       "       0.22750828, 0.18619704, 0.19271422, 0.19620346, 0.16488715,\n",
       "       0.23728113, 0.19271422, 0.23227424, 0.15347943, 0.18998729,\n",
       "       0.19271422, 0.22750828, 0.23973977, 0.23751469, 0.10289592,\n",
       "       0.16470467, 0.23227424, 0.18619704, 0.24878835, 0.1334762 ,\n",
       "       0.19271422, 0.22750828, 0.20083136, 0.18204029, 0.16261298,\n",
       "       0.24877048, 0.19837271, 0.20355828, 0.19271422, 0.23227424,\n",
       "       0.19271422, 0.22086207, 0.18619704, 0.18619704, 0.12652518,\n",
       "       0.15731224, 0.20083136, 0.19271422, 0.24878835, 0.17113993,\n",
       "       0.16467327, 0.18181415, 0.19271422, 0.10289592, 0.21085565,\n",
       "       0.19271422, 0.22750828, 0.18619704, 0.19271422, 0.22750828,\n",
       "       0.20083136, 0.22750828, 0.18619704, 0.18619704, 0.20355828,\n",
       "       0.23227424, 0.16488715, 0.19620346, 0.18619704, 0.10289592,\n",
       "       0.20083136, 0.15347943, 0.19271422, 0.15347943, 0.18619704,\n",
       "       0.19271422, 0.12273219, 0.12968322, 0.18619704, 0.21083777,\n",
       "       0.19271422, 0.23227424, 0.14950169, 0.15347943, 0.19837271,\n",
       "       0.20109963, 0.16748528, 0.19271422, 0.19271422, 0.19271422,\n",
       "       0.19271422, 0.23227424, 0.23129853, 0.18619704, 0.23227424,\n",
       "       0.10139523, 0.23973977, 0.22750828, 0.19837271, 0.15347943,\n",
       "       0.13945399, 0.18246285, 0.15177586, 0.21358257, 0.16261298,\n",
       "       0.18998729, 0.18998729, 0.16868128, 0.22750828, 0.19271422,\n",
       "       0.19271422, 0.23227424, 0.20355828, 0.23999414, 0.16261298,\n",
       "       0.20837913, 0.18619704, 0.18619704, 0.19271422, 0.24523459,\n",
       "       0.1744363 , 0.15872688, 0.14950169, 0.19271422, 0.1742485 ,\n",
       "       0.19109011, 0.19620346, 0.18619704, 0.18619704, 0.19837271,\n",
       "       0.18619704, 0.10291405, 0.1075909 , 0.15177586, 0.1218883 ,\n",
       "       0.13120203, 0.16261298, 0.18619704, 0.20109963, 0.16467327,\n",
       "       0.21085565, 0.19271422, 0.10063988, 0.14950169, 0.20355828,\n",
       "       0.19837271, 0.24878835, 0.10289592, 0.18619704, 0.19271422,\n",
       "       0.22750828, 0.15347943, 0.21358257, 0.16043045, 0.09912106,\n",
       "       0.18619704, 0.20355828, 0.22750828, 0.23973977, 0.19620346,\n",
       "       0.19391694, 0.18619704, 0.21358257, 0.19620346, 0.25879477,\n",
       "       0.16467327, 0.20392336, 0.15347943, 0.18619704, 0.19271422,\n",
       "       0.20392336, 0.19620346, 0.22750828, 0.12425101, 0.19271422,\n",
       "       0.14495816, 0.16868128, 0.18619704, 0.22750828, 0.23227424,\n",
       "       0.18619704, 0.19271422, 0.22750828, 0.15604731, 0.22750828,\n",
       "       0.20109963, 0.19271422, 0.21085565, 0.18619704, 0.20355828,\n",
       "       0.19620346, 0.19271422, 0.18619704, 0.19620346, 0.1742132 ,\n",
       "       0.1742485 , 0.12652518, 0.18619704, 0.22750828, 0.19271422,\n",
       "       0.17113993, 0.15347943, 0.19837271, 0.15604731, 0.20109963,\n",
       "       0.1742132 , 0.20083136, 0.14950169, 0.13681268, 0.18619704,\n",
       "       0.24631183, 0.18619704, 0.18473702, 0.23876406, 0.18619704,\n",
       "       0.23227424, 0.15347943, 0.12425101, 0.19271422, 0.10063988,\n",
       "       0.19271422, 0.10063988, 0.16418891, 0.19271422, 0.15347943,\n",
       "       0.1557536 , 0.23227424, 0.20083136, 0.22750828, 0.19096301,\n",
       "       0.24976407, 0.16261298, 0.19271422, 0.23129853, 0.18998729,\n",
       "       0.18619704, 0.12650705, 0.15604731, 0.18619704, 0.23129853,\n",
       "       0.22086207, 0.19271422, 0.23751469, 0.16043045, 0.22086207,\n",
       "       0.19271422, 0.19271422, 0.16748528, 0.18619704, 0.18619704,\n",
       "       0.19271422, 0.11338421, 0.19271422, 0.19271422, 0.19271422,\n",
       "       0.15347943, 0.16467327, 0.19271422, 0.16994393, 0.23227424,\n",
       "       0.19271422, 0.22750828, 0.22750828, 0.19391694, 0.17113993,\n",
       "       0.19271422, 0.19271422, 0.19271422, 0.18619704, 0.15347943,\n",
       "       0.12650705, 0.23227424, 0.22750828, 0.19271422, 0.19271422,\n",
       "       0.10063988, 0.23973977, 0.20355828, 0.22750828, 0.20355828,\n",
       "       0.23999414, 0.18619704, 0.23973977, 0.18619704, 0.14950169,\n",
       "       0.10291405, 0.15347943, 0.21358257, 0.20083136, 0.22750828,\n",
       "       0.18998729, 0.23129853, 0.17736916, 0.18619704, 0.25879477,\n",
       "       0.20083136, 0.18619704, 0.15347943, 0.19837271, 0.16470467,\n",
       "       0.23876406, 0.19271422, 0.17113993, 0.20355828, 0.24730542,\n",
       "       0.23227424, 0.23973977, 0.12425101, 0.23227424, 0.19271422,\n",
       "       0.22750828, 0.18619704, 0.15604731, 0.19271422, 0.21940606,\n",
       "       0.15347943, 0.10063988, 0.24632971, 0.22086207, 0.23227424,\n",
       "       0.22750828, 0.19271422, 0.18619704, 0.18619704, 0.23227424,\n",
       "       0.15347943, 0.14950169, 0.21083777, 0.23876406, 0.18619704,\n",
       "       0.1557536 , 0.15347943, 0.20083136, 0.21083777, 0.19271422,\n",
       "       0.18619704, 0.23876406, 0.19271422, 0.13120203, 0.15347943,\n",
       "       0.18619704, 0.12586603, 0.19271422, 0.09912106, 0.22750828,\n",
       "       0.24878835, 0.23999414, 0.16261298, 0.15347943, 0.23973977,\n",
       "       0.19271422, 0.20355828, 0.22750828, 0.19271422, 0.20083136,\n",
       "       0.18473702, 0.23227424, 0.21085565, 0.19271422, 0.19620346,\n",
       "       0.14950169, 0.19391694, 0.20355828, 0.16467327, 0.22750828,\n",
       "       0.18619704, 0.10063988, 0.19391694, 0.23751469, 0.14495816,\n",
       "       0.19271422, 0.23227424, 0.18619704, 0.18619704, 0.14950169,\n",
       "       0.19837271, 0.23227424, 0.20355828, 0.17976613, 0.12425101,\n",
       "       0.18619704, 0.16261298, 0.23227424, 0.14191151, 0.18619704,\n",
       "       0.19271422, 0.18619704, 0.20083136, 0.15347943, 0.15347943,\n",
       "       0.15347943, 0.18619704, 0.19271422, 0.21358257, 0.19271422,\n",
       "       0.18246285, 0.12425101, 0.19271422, 0.21358257, 0.10063988,\n",
       "       0.12273219, 0.15872688, 0.23227424, 0.12425101, 0.19271422,\n",
       "       0.14343934, 0.23227424, 0.23227424, 0.23227424, 0.23973977,\n",
       "       0.20355828, 0.16261298, 0.1742485 , 0.11432404, 0.19271422,\n",
       "       0.18619704, 0.16224603, 0.18619704, 0.19271422, 0.23227424,\n",
       "       0.18998729, 0.20109963, 0.18619704, 0.15347943, 0.18619704,\n",
       "       0.16261298, 0.16868128, 0.18619704, 0.21083777, 0.19271422,\n",
       "       0.20083136, 0.12498823, 0.23876406, 0.18998729, 0.19271422,\n",
       "       0.19271422, 0.19271422, 0.21085565, 0.18619704, 0.10063988,\n",
       "       0.23227424, 0.21085565, 0.15347943, 0.19271422, 0.23227424,\n",
       "       0.18619704, 0.15604731, 0.19271422, 0.21358257, 0.18998729,\n",
       "       0.208397  , 0.20355828, 0.19271422, 0.19620346, 0.23227424,\n",
       "       0.1742485 , 0.24730542, 0.19620346, 0.23227424, 0.17113993,\n",
       "       0.19271422, 0.18619704, 0.20083136, 0.19620346, 0.22750828,\n",
       "       0.23876406, 0.23227424, 0.19271422, 0.19620346, 0.12273219,\n",
       "       0.22750828, 0.14495816, 0.20392336, 0.16173026, 0.12650705,\n",
       "       0.23227424, 0.20083136, 0.19271422, 0.23876406, 0.19271422,\n",
       "       0.16960748, 0.17041814, 0.19271422, 0.18865955, 0.23227424,\n",
       "       0.23227424, 0.23227424, 0.22750828, 0.23227424, 0.16043045,\n",
       "       0.18619704, 0.19271422, 0.19271422, 0.10607208, 0.15645271,\n",
       "       0.16488715, 0.20083136, 0.23876406, 0.23973977, 0.1557536 ,\n",
       "       0.15177586, 0.23129853, 0.19271422, 0.18619704, 0.23876406,\n",
       "       0.19271422, 0.14950169, 0.23129853, 0.19271422, 0.23227424,\n",
       "       0.15604731, 0.22750828, 0.22750828, 0.1557536 , 0.19620346,\n",
       "       0.20083136, 0.13587285, 0.12425101, 0.21358257, 0.18619704,\n",
       "       0.18619704, 0.10517009, 0.18619704, 0.19620346, 0.15604731,\n",
       "       0.15177586, 0.10984694, 0.19271422, 0.20109963, 0.23227424,\n",
       "       0.10063988, 0.18619704, 0.18619704, 0.21085565, 0.20355828,\n",
       "       0.17165569, 0.23227424, 0.23227424, 0.23227424, 0.19620346,\n",
       "       0.1844606 , 0.18619704, 0.19271422, 0.16261298, 0.23227424,\n",
       "       0.18619704, 0.18619704, 0.18619704, 0.22750828, 0.1557536 ,\n",
       "       0.18998729, 0.18620091, 0.15604731, 0.22750828, 0.23227424,\n",
       "       0.20355828])"
      ]
     },
     "execution_count": 109,
     "metadata": {},
     "output_type": "execute_result"
    }
   ],
   "source": [
    "pred"
   ]
  },
  {
   "cell_type": "code",
   "execution_count": 110,
   "metadata": {},
   "outputs": [
    {
     "data": {
      "text/plain": [
       "((956,), (956,))"
      ]
     },
     "execution_count": 110,
     "metadata": {},
     "output_type": "execute_result"
    }
   ],
   "source": [
    "y_test.shape, pred.shape"
   ]
  },
  {
   "cell_type": "code",
   "execution_count": 111,
   "metadata": {},
   "outputs": [],
   "source": [
    "cutoff = .25"
   ]
  },
  {
   "cell_type": "code",
   "execution_count": 112,
   "metadata": {},
   "outputs": [
    {
     "name": "stdout",
     "output_type": "stream",
     "text": [
      "[[759   4]\n",
      " [193   0]]\n"
     ]
    }
   ],
   "source": [
    "print( confusion_matrix(y_test.values.astype('bool'), pred>cutoff) )"
   ]
  },
  {
   "cell_type": "code",
   "execution_count": 113,
   "metadata": {},
   "outputs": [
    {
     "data": {
      "text/plain": [
       "0.7939330543933054"
      ]
     },
     "execution_count": 113,
     "metadata": {},
     "output_type": "execute_result"
    }
   ],
   "source": [
    "accuracy_score(y_test.values.astype('bool'), pred>cutoff)"
   ]
  },
  {
   "cell_type": "code",
   "execution_count": 114,
   "metadata": {},
   "outputs": [
    {
     "name": "stdout",
     "output_type": "stream",
     "text": [
      "Test set ROC AUC: 0.5478408789955113\n"
     ]
    },
    {
     "data": {
      "image/png": "[encoded data removed]",
      "text/plain": [
       "<Figure size 640x480 with 1 Axes>"
      ]
     },
     "metadata": {},
     "output_type": "display_data"
    }
   ],
   "source": [
    "fpr, tpr, _ = roc_curve(y_test.values.astype('bool'), pred)\n",
    "roc_auc = auc(fpr, tpr)\n",
    "\n",
    "plt.style.use('default')\n",
    "plt.figure()\n",
    "plt.plot(fpr, tpr, color='darkorange',\n",
    "         lw=1, label='ROC curve (area = %0.3f)' % roc_auc)\n",
    "plt.plot([0, 1], [0, 1], color='navy', lw=1, linestyle='--')\n",
    "plt.xlim([0.0, 1.0])\n",
    "plt.ylim([0.0, 1.05])\n",
    "plt.xlabel('False Positive Rate')\n",
    "plt.ylabel('True Positive Rate')\n",
    "plt.title('Receiver operating characteristic curve')\n",
    "plt.legend(loc=\"lower right\")\n",
    "print('Test set ROC AUC: {}'.format(auc(fpr, tpr)))\n",
    "plt.show()"
   ]
  },
  {
   "cell_type": "code",
   "execution_count": 115,
   "metadata": {},
   "outputs": [
    {
     "data": {
      "image/png": "[encoded data removed]",
      "text/plain": [
       "<Figure size 800x700 with 1 Axes>"
      ]
     },
     "metadata": {},
     "output_type": "display_data"
    }
   ],
   "source": [
    "warnings.simplefilter(action='ignore', category=FutureWarning)\n",
    "\n",
    "feature_imp = pd.DataFrame(sorted(zip(clf.feature_importance(),X.columns)), columns=['Value','Feature'])\n",
    "\n",
    "plt.figure(figsize=(8, 7))\n",
    "sns.set(font_scale = 1.5)\n",
    "sns.barplot(x=\"Value\", y=\"Feature\", data=feature_imp.sort_values(by=\"Value\", ascending=False))\n",
    "plt.title('LightGBM Features')\n",
    "plt.tight_layout()\n",
    "plt.show()"
   ]
  },
  {
   "cell_type": "code",
   "execution_count": 40,
   "metadata": {},
   "outputs": [
    {
     "data": {
      "text/plain": [
       "(Timestamp('2012-05-31 08:20:06'), Timestamp('2014-06-06 14:58:50'))"
      ]
     },
     "execution_count": 40,
     "metadata": {},
     "output_type": "execute_result"
    }
   ],
   "source": [
    "summary.time_stamp.min(), summary.time_stamp.max()"
   ]
  },
  {
   "cell_type": "code",
   "execution_count": 41,
   "metadata": {},
   "outputs": [
    {
     "data": {
      "text/plain": [
       "(Timestamp('2012-05-31 00:43:27'), Timestamp('2014-05-30 23:59:19'))"
      ]
     },
     "execution_count": 41,
     "metadata": {},
     "output_type": "execute_result"
    }
   ],
   "source": [
    "df.creation_time.min(), df.creation_time.max()"
   ]
  },
  {
   "cell_type": "code",
   "execution_count": null,
   "metadata": {},
   "outputs": [],
   "source": []
  }
 ],
 "metadata": {
  "kernelspec": {
   "display_name": "Python 3",
   "language": "python",
   "name": "python3"
  },
  "language_info": {
   "codemirror_mode": {
    "name": "ipython",
    "version": 3
   },
   "file_extension": ".py",
   "mimetype": "text/x-python",
   "name": "python",
   "nbconvert_exporter": "python",
   "pygments_lexer": "ipython3",
   "version": "3.7.3"
  }
 },
 "nbformat": 4,
 "nbformat_minor": 2
}
